{
  "nbformat": 4,
  "nbformat_minor": 0,
  "metadata": {
    "colab": {
      "name": "Lab01~04.ipynb",
      "provenance": [],
      "collapsed_sections": [],
      "toc_visible": true,
      "authorship_tag": "ABX9TyOcopG03yVgb6HBmk7fGTdG",
      "include_colab_link": true
    },
    "kernelspec": {
      "name": "python3",
      "display_name": "Python 3"
    },
    "language_info": {
      "name": "python"
    }
  },
  "cells": [
    {
      "cell_type": "markdown",
      "metadata": {
        "id": "view-in-github",
        "colab_type": "text"
      },
      "source": [
        "<a href=\"https://colab.research.google.com/github/ChaeyeonHan/ML_Study/blob/main/Lab01~04.ipynb\" target=\"_parent\"><img src=\"https://colab.research.google.com/assets/colab-badge.svg\" alt=\"Open In Colab\"/></a>"
      ]
    },
    {
      "cell_type": "code",
      "metadata": {
        "id": "kYidsafyvwz_",
        "colab": {
          "base_uri": "https://localhost:8080/"
        },
        "outputId": "227cf477-11d3-4fc4-d2d4-005a3f355921"
      },
      "source": [
        "import pandas as pd\n",
        "import numpy as np\n",
        "print(np.__version__)"
      ],
      "execution_count": null,
      "outputs": [
        {
          "output_type": "stream",
          "name": "stdout",
          "text": [
            "1.19.5\n"
          ]
        }
      ]
    },
    {
      "cell_type": "code",
      "source": [
        "# Build hypothesis and cost\n",
        "# H(x) = Wx + b\n",
        "x_data=[1, 2, 3, 4, 5]\n",
        "y_data=[1, 2, 3, 4, 5]\n",
        "\n",
        "\n",
        "# 초기값\n",
        "W = tf.Variable(2.9)\n",
        "b = tf.Variable(0.5)\n",
        "\n",
        "# hypothesis = W * x + b\n",
        "hypothesis = W * x_data + b\n",
        "\n",
        "# 오차제곱의 평균\n",
        "cost = tf.reduce_mean(tf.square(hypothesis - y_data))\n"
      ],
      "metadata": {
        "id": "XJiySVZB8e-n"
      },
      "execution_count": null,
      "outputs": []
    },
    {
      "cell_type": "markdown",
      "source": [
        "## 1.Gradient decent 경사하강법\n",
        "cost를 최소화하는 W와 b를 찾는 알고리즘이다. \n"
      ],
      "metadata": {
        "id": "t_t6OZlF939w"
      }
    },
    {
      "cell_type": "code",
      "source": [
        "import tensorflow as tf\n",
        "tf.random.set_seed(0)\n",
        "\n",
        "# Build hypothesis and cost\n",
        "# H(x) = Wx + b\n",
        "x_data=[1, 2, 3, 4, 5]\n",
        "y_data=[1, 2, 3, 4, 5]\n",
        "\n",
        "# 초기값\n",
        "W = tf.Variable(2.9)\n",
        "b = tf.Variable(0.5)\n",
        "\n",
        "learning_rate = 0.01\n",
        "\n",
        "for i in range(100):  # 여러번 수행\n",
        "  # Gradient descent\n",
        "  with tf.GradientTape() as tape:\n",
        "      hypothesis = W * x_data + b\n",
        "      cost = tf.reduce_mean(tf.square(hypothesis - y_data))\n",
        "  W_grad, b_grad = tape.gradient(cost, [W,b])\n",
        "  # learning_rate는 gradient를 얼마나 반영할 것인지를 결정\n",
        "  W.assign_sub(learning_rate * W_grad)  # assign_sub기능 : A -= B\n",
        "  b.assign_sub(learning_rate * b_grad)\n",
        "  if i % 10 == 0:\n",
        "    print(\"{:5}|{:10.4f}|{:10.4}|{:10.6f}\".format(i, W.numpy(), b.numpy(), cost))"
      ],
      "metadata": {
        "colab": {
          "base_uri": "https://localhost:8080/"
        },
        "id": "9-7kEgyd-G5i",
        "outputId": "2144020c-8fc5-4d99-dcb3-229d02d120e4"
      },
      "execution_count": null,
      "outputs": [
        {
          "output_type": "stream",
          "name": "stdout",
          "text": [
            "    0|    2.4520|     0.376| 45.660004\n",
            "   10|    1.1036|  0.003398|  0.206336\n",
            "   20|    1.0128|  -0.02091|  0.001026\n",
            "   30|    1.0065|  -0.02184|  0.000093\n",
            "   40|    1.0059|  -0.02123|  0.000083\n",
            "   50|    1.0057|  -0.02053|  0.000077\n",
            "   60|    1.0055|  -0.01984|  0.000072\n",
            "   70|    1.0053|  -0.01918|  0.000067\n",
            "   80|    1.0051|  -0.01854|  0.000063\n",
            "   90|    1.0050|  -0.01793|  0.000059\n"
          ]
        }
      ]
    },
    {
      "cell_type": "code",
      "source": [
        "# Cost function in pure python\n",
        "import numpy as np\n",
        "X = np.array([1, 2, 3])\n",
        "Y = np.array([1, 2, 3])\n",
        "\n",
        "def cost_func(W, X, Y):\n",
        "  c = 0\n",
        "  for i in range(len(X)):\n",
        "    c += (W * X[i] - Y[i]) ** 2\n",
        "  return c/len(X)\n",
        "\n",
        "for feed_W in np.linspace(-3, 5, num=15):  # W의 값이 -3에서 5까지 변하고, 구간을 15개로 나눈다.\n",
        "  curr_cost = cost_func(feed_W, X, Y)\n",
        "  print(\"{:6.3f} | {:10.6f}\".format(feed_W, curr_cost))\n",
        "\n",
        "\n",
        "# Cost function in TensorFlow\n",
        "X = np.array([1, 2, 3])\n",
        "Y = np.array([1, 2, 3])\n",
        "\n",
        "def cost_func(W, X, Y):\n",
        "  hypothesis = W * X\n",
        "  return tf.reduce_mean(tf.square(hypothesis - Y))\n",
        "\n",
        "W_values = np.linspace(-3, 5, num=15)\n",
        "cost_values = []\n",
        "\n",
        "for feed_W in W_values:\n",
        "  curr_cost = cost_func(feed_W, X, Y)\n",
        "  cost_values.append(curr_cost)\n",
        "  print(\"{:6.3f} | {:10.6f}\".format(feed_W, curr_cost))\n",
        "  "
      ],
      "metadata": {
        "colab": {
          "base_uri": "https://localhost:8080/"
        },
        "id": "SLC54WEyMAzK",
        "outputId": "29db7aa4-f58d-4235-8681-8418f6bd0ef3"
      },
      "execution_count": null,
      "outputs": [
        {
          "output_type": "stream",
          "name": "stdout",
          "text": [
            "-3.000 |  74.666667\n",
            "-2.429 |  54.857143\n",
            "-1.857 |  38.095238\n",
            "-1.286 |  24.380952\n",
            "-0.714 |  13.714286\n",
            "-0.143 |   6.095238\n",
            " 0.429 |   1.523810\n",
            " 1.000 |   0.000000\n",
            " 1.571 |   1.523810\n",
            " 2.143 |   6.095238\n",
            " 2.714 |  13.714286\n",
            " 3.286 |  24.380952\n",
            " 3.857 |  38.095238\n",
            " 4.429 |  54.857143\n",
            " 5.000 |  74.666667\n",
            "-3.000 |  74.666667\n",
            "-2.429 |  54.857143\n",
            "-1.857 |  38.095238\n",
            "-1.286 |  24.380952\n",
            "-0.714 |  13.714286\n",
            "-0.143 |   6.095238\n",
            " 0.429 |   1.523810\n",
            " 1.000 |   0.000000\n",
            " 1.571 |   1.523810\n",
            " 2.143 |   6.095238\n",
            " 2.714 |  13.714286\n",
            " 3.286 |  24.380952\n",
            " 3.857 |  38.095238\n",
            " 4.429 |  54.857143\n",
            " 5.000 |  74.666667\n"
          ]
        }
      ]
    },
    {
      "cell_type": "code",
      "source": [
        "# Gradient descent\n",
        "import tensorflow as tf\n",
        "tf.random.set_seed(0)\n",
        "\n",
        "x_data = [1., 2., 3., 4.]\n",
        "y_data = [1., 3., 5., 7.]\n",
        "\n",
        "# W = tf.Variable(tf.random_normal([1], -100., 100.))\n",
        "W = tf.Variable([5.0])\n",
        "for step in range(300):\n",
        "  hypothesis = W * X\n",
        "  cost = tf.reduce_mean(tf.square(hypothesis - Y))\n",
        "\n",
        "  alpha = 0.01\n",
        "  gradient = tf.reduce_mean(tf.multiply(tf.multiply(W, X) - Y, X))\n",
        "  descent = W - tf.multiply(alpha, gradient)\n",
        "  W.assign(descent)\n",
        "\n",
        "  if step % 10 == 0:\n",
        "      print(\"{:5} | {:10.4f} | {:10.6f}\".format(step, cost.numpy(), W.numpy()[0]))\n"
      ],
      "metadata": {
        "colab": {
          "base_uri": "https://localhost:8080/"
        },
        "id": "XOrAEr3SMBG3",
        "outputId": "0b5f67d7-8251-4a28-f963-6f48c5e4c387"
      },
      "execution_count": null,
      "outputs": [
        {
          "output_type": "stream",
          "name": "stdout",
          "text": [
            "    0 |    74.6667 |   4.813334\n",
            "   10 |    28.7093 |   3.364572\n",
            "   20 |    11.0387 |   2.466224\n",
            "   30 |     4.2444 |   1.909177\n",
            "   40 |     1.6320 |   1.563762\n",
            "   50 |     0.6275 |   1.349578\n",
            "   60 |     0.2413 |   1.216766\n",
            "   70 |     0.0928 |   1.134412\n",
            "   80 |     0.0357 |   1.083346\n",
            "   90 |     0.0137 |   1.051681\n",
            "  100 |     0.0053 |   1.032047\n",
            "  110 |     0.0020 |   1.019871\n",
            "  120 |     0.0008 |   1.012322\n",
            "  130 |     0.0003 |   1.007641\n",
            "  140 |     0.0001 |   1.004738\n",
            "  150 |     0.0000 |   1.002938\n",
            "  160 |     0.0000 |   1.001822\n",
            "  170 |     0.0000 |   1.001130\n",
            "  180 |     0.0000 |   1.000700\n",
            "  190 |     0.0000 |   1.000434\n",
            "  200 |     0.0000 |   1.000269\n",
            "  210 |     0.0000 |   1.000167\n",
            "  220 |     0.0000 |   1.000103\n",
            "  230 |     0.0000 |   1.000064\n",
            "  240 |     0.0000 |   1.000040\n",
            "  250 |     0.0000 |   1.000025\n",
            "  260 |     0.0000 |   1.000015\n",
            "  270 |     0.0000 |   1.000009\n",
            "  280 |     0.0000 |   1.000006\n",
            "  290 |     0.0000 |   1.000004\n"
          ]
        }
      ]
    },
    {
      "cell_type": "markdown",
      "source": [
        "## 2.Linear Regression 구현\n",
        "### 1. build graph  2. feed data and run graph  3. update variables in the graph"
      ],
      "metadata": {
        "id": "VrsKh3b5shAM"
      }
    },
    {
      "cell_type": "code",
      "source": [
        "import tensorflow.compat.v1 as tf\n",
        "tf.disable_v2_behavior()\n",
        "# H(x) = Wx + b\n",
        "x_train = [1, 2, 3]\n",
        "y_train = [1, 2, 3]\n",
        "\n",
        "# 여기서 Variable은 tensorflow가 학습하는 과정에서 변경시키는 data\n",
        "W = tf.Variable(tf.random_normal([1]), name = 'weight')\n",
        "b = tf.Variable(tf.random_normal([1]), name = 'bias')\n",
        "\n",
        "# 우리의 hypothesis XW + b\n",
        "hypothesis = x_train * W + b\n",
        "\n",
        "# cost/loss function\n",
        "cost = tf.reduce_mean(tf.square(hypothesis - y_train))  # reduce_mean:평균내주는 기능\n",
        "\n",
        "# GradientDescent -> Minimize\n",
        "optimizer = tf.train.GradientDescentOptimizer(learning_rate=0.01)\n",
        "train = optimizer.minimize(cost) # 그래프 구현까지 완료"
      ],
      "metadata": {
        "id": "5fTF9aw5smRQ",
        "colab": {
          "base_uri": "https://localhost:8080/"
        },
        "outputId": "db3407db-45f2-42e3-84a7-5d34ca008f5f"
      },
      "execution_count": null,
      "outputs": [
        {
          "output_type": "stream",
          "name": "stdout",
          "text": [
            "WARNING:tensorflow:From /usr/local/lib/python3.7/dist-packages/tensorflow/python/compat/v2_compat.py:111: disable_resource_variables (from tensorflow.python.ops.variable_scope) is deprecated and will be removed in a future version.\n",
            "Instructions for updating:\n",
            "non-resource variables are not supported in the long term\n"
          ]
        }
      ]
    },
    {
      "cell_type": "code",
      "source": [
        "sess = tf.Session()\n",
        "sess.run(tf.global_variables_initializer())  # Variable 초기화\n",
        "\n",
        "for step in range(2001):\n",
        "  sess.run(train)\n",
        "  if step % 20 == 0:\n",
        "    print(step, sess.run(cost), sess.run(W), sess.run(b))"
      ],
      "metadata": {
        "colab": {
          "base_uri": "https://localhost:8080/"
        },
        "id": "9Hm1T8UxvHZU",
        "outputId": "a236aac1-236d-4acc-cb26-1cb20b5feccc"
      },
      "execution_count": null,
      "outputs": [
        {
          "output_type": "stream",
          "name": "stdout",
          "text": [
            "0 12.056712 [-0.6133708] [0.01404778]\n",
            "20 0.15674992 [0.61754835] [0.5215166]\n",
            "40 0.044502575 [0.7455097] [0.5453909]\n",
            "60 0.039530676 [0.7679427] [0.5243665]\n",
            "80 0.03589435 [0.77984583] [0.50016195]\n",
            "100 0.032599755 [0.79028714] [0.47669798]\n",
            "120 0.029607618 [0.80015194] [0.4542989]\n",
            "140 0.026890123 [0.80954486] [0.43294895]\n",
            "160 0.024422035 [0.81849575] [0.41260192]\n",
            "180 0.022180485 [0.82702583] [0.39321113]\n",
            "200 0.020144677 [0.8351549] [0.3747316]\n",
            "220 0.018295715 [0.84290206] [0.3571206]\n",
            "240 0.016616454 [0.85028505] [0.34033725]\n",
            "260 0.015091337 [0.857321] [0.3243427]\n",
            "280 0.013706196 [0.8640265] [0.3090998]\n",
            "300 0.012448176 [0.87041676] [0.29457325]\n",
            "320 0.01130564 [0.87650675] [0.28072938]\n",
            "340 0.010267959 [0.8823104] [0.26753607]\n",
            "360 0.009325519 [0.88784134] [0.25496286]\n",
            "380 0.008469587 [0.8931125] [0.24298055]\n",
            "400 0.00769222 [0.89813566] [0.23156136]\n",
            "420 0.0069861985 [0.90292305] [0.22067884]\n",
            "440 0.006344979 [0.9074852] [0.21030773]\n",
            "460 0.0057626055 [0.9118331] [0.20042405]\n",
            "480 0.005233688 [0.91597664] [0.19100486]\n",
            "500 0.0047533284 [0.9199254] [0.18202837]\n",
            "520 0.004317045 [0.92368865] [0.17347369]\n",
            "540 0.00392081 [0.92727494] [0.16532105]\n",
            "560 0.003560939 [0.9306928] [0.1575516]\n",
            "580 0.0032341033 [0.93395] [0.15014726]\n",
            "600 0.0029372673 [0.9370541] [0.14309086]\n",
            "620 0.002667675 [0.94001234] [0.13636613]\n",
            "640 0.002422822 [0.9428315] [0.12995741]\n",
            "660 0.0022004438 [0.94551826] [0.12384984]\n",
            "680 0.0019984795 [0.94807863] [0.11802937]\n",
            "700 0.0018150493 [0.9505187] [0.11248246]\n",
            "720 0.0016484581 [0.9528442] [0.1071962]\n",
            "740 0.0014971568 [0.9550604] [0.10215834]\n",
            "760 0.0013597426 [0.95717233] [0.09735727]\n",
            "780 0.001234943 [0.959185] [0.09278189]\n",
            "800 0.0011215912 [0.96110326] [0.08842149]\n",
            "820 0.0010186476 [0.9629312] [0.08426601]\n",
            "840 0.0009251521 [0.96467334] [0.08030584]\n",
            "860 0.00084024 [0.96633357] [0.07653178]\n",
            "880 0.00076311984 [0.9679157] [0.07293506]\n",
            "900 0.0006930772 [0.9694234] [0.06950745]\n",
            "920 0.000629464 [0.97086054] [0.06624088]\n",
            "940 0.0005716889 [0.97223] [0.06312779]\n",
            "960 0.0005192177 [0.97353506] [0.06016099]\n",
            "980 0.00047156145 [0.9747789] [0.05733365]\n",
            "1000 0.00042827905 [0.9759641] [0.05463916]\n",
            "1020 0.00038896978 [0.97709376] [0.05207133]\n",
            "1040 0.00035327012 [0.9781703] [0.04962415]\n",
            "1060 0.00032084528 [0.9791961] [0.04729202]\n",
            "1080 0.00029139742 [0.9801738] [0.04506954]\n",
            "1100 0.0002646509 [0.9811056] [0.04295142]\n",
            "1120 0.00024036183 [0.98199356] [0.04093286]\n",
            "1140 0.00021829926 [0.9828398] [0.03900915]\n",
            "1160 0.0001982639 [0.9836463] [0.03717586]\n",
            "1180 0.00018006488 [0.9844149] [0.03542872]\n",
            "1200 0.00016353762 [0.9851473] [0.03376367]\n",
            "1220 0.00014852782 [0.9858453] [0.0321769]\n",
            "1240 0.00013489467 [0.9865106] [0.03066468]\n",
            "1260 0.00012251337 [0.98714453] [0.02922354]\n",
            "1280 0.000111269146 [0.9877486] [0.02785014]\n",
            "1300 0.000101056525 [0.9883244] [0.02654131]\n",
            "1320 9.178048e-05 [0.9888731] [0.02529396]\n",
            "1340 8.335765e-05 [0.98939604] [0.02410528]\n",
            "1360 7.570597e-05 [0.98989445] [0.02297241]\n",
            "1380 6.875702e-05 [0.9903694] [0.02189273]\n",
            "1400 6.244654e-05 [0.990822] [0.02086383]\n",
            "1420 5.6714885e-05 [0.9912533] [0.01988327]\n",
            "1440 5.1509018e-05 [0.9916644] [0.01894882]\n",
            "1460 4.6781293e-05 [0.99205613] [0.01805828]\n",
            "1480 4.24874e-05 [0.9924295] [0.01720959]\n",
            "1500 3.8587506e-05 [0.9927853] [0.0164008]\n",
            "1520 3.5045872e-05 [0.9931243] [0.01563003]\n",
            "1540 3.182956e-05 [0.9934475] [0.01489548]\n",
            "1560 2.8907765e-05 [0.9937554] [0.01419544]\n",
            "1580 2.625448e-05 [0.9940489] [0.01352831]\n",
            "1600 2.3845007e-05 [0.9943285] [0.01289254]\n",
            "1620 2.165624e-05 [0.9945951] [0.01228666]\n",
            "1640 1.9668712e-05 [0.994849] [0.01170925]\n",
            "1660 1.7863766e-05 [0.99509114] [0.011159]\n",
            "1680 1.6223936e-05 [0.9953218] [0.01063457]\n",
            "1700 1.4734698e-05 [0.9955417] [0.01013479]\n",
            "1720 1.338241e-05 [0.9957512] [0.00965849]\n",
            "1740 1.21541625e-05 [0.99595094] [0.00920457]\n",
            "1760 1.1038625e-05 [0.9961412] [0.00877199]\n",
            "1780 1.0025496e-05 [0.9963226] [0.00835971]\n",
            "1800 9.105049e-06 [0.99649537] [0.00796684]\n",
            "1820 8.269478e-06 [0.99666005] [0.00759244]\n",
            "1840 7.5106477e-06 [0.99681705] [0.00723564]\n",
            "1860 6.8210993e-06 [0.99696666] [0.00689559]\n",
            "1880 6.195132e-06 [0.9971092] [0.00657151]\n",
            "1900 5.6266167e-06 [0.997245] [0.00626268]\n",
            "1920 5.110212e-06 [0.9973745] [0.00596837]\n",
            "1940 4.6410623e-06 [0.99749786] [0.00568789]\n",
            "1960 4.215025e-06 [0.99761546] [0.0054206]\n",
            "1980 3.828172e-06 [0.9977275] [0.00516586]\n",
            "2000 3.4768063e-06 [0.9978343] [0.0049231]\n"
          ]
        }
      ]
    },
    {
      "cell_type": "markdown",
      "source": [
        "## 동일한 예제 Placeholders를 사용해서\n",
        "### Placeholder를 사용하면, "
      ],
      "metadata": {
        "id": "x8BF6Q6ZxspC"
      }
    },
    {
      "cell_type": "code",
      "source": [
        "import tensorflow.compat.v1 as tf\n",
        "tf.disable_v2_behavior()\n",
        "W = tf.Variable(tf.random_normal([1]), name='weight')\n",
        "b = tf.Variable(tf.random_normal([1]), name='bias')\n",
        "X = tf.placeholder(tf.float32, shape=[None])\n",
        "Y = tf.placeholder(tf.float32, shape=[None])\n",
        "\n",
        "hypothesis = X * W + b\n",
        "cost = tf.reduce_mean(tf.square(hypothesis - Y))\n",
        "\n",
        "optimizer = tf.train.GradientDescentOptimizer(learning_rate=0.01)\n",
        "train = optimizer.minimize(cost)\n",
        "\n",
        "sess = tf.Session()\n",
        "sess.run(tf.global_variables_initializer())\n",
        "\n",
        "for step in range(2001):  # W=1, b=1.1로 예상\n",
        "  cost_val, W_val, b_val, _ = sess.run([cost, W, b, train], \n",
        "                    feed_dict={X:[1, 2, 3, 4, 5], Y: [2.1, 3.1, 4.1, 5.1, 6.1]})\n",
        "  if step % 20 == 0:\n",
        "    print(step, cost_val, W_val, b_val)"
      ],
      "metadata": {
        "colab": {
          "base_uri": "https://localhost:8080/"
        },
        "id": "fRHVbg5pxwU4",
        "outputId": "24f03840-5f72-41bf-ec43-27d30e9003a0"
      },
      "execution_count": null,
      "outputs": [
        {
          "output_type": "stream",
          "name": "stdout",
          "text": [
            "0 33.692383 [-0.23619372] [0.7369804]\n",
            "20 0.0007460189 [0.99934804] [1.0805557]\n",
            "40 5.1239622e-05 [1.0046055] [1.0832735]\n",
            "60 4.473654e-05 [1.0043275] [1.0843755]\n",
            "80 3.906786e-05 [1.0040443] [1.0853988]\n",
            "100 3.4117882e-05 [1.0037794] [1.0863551]\n",
            "120 2.979608e-05 [1.0035319] [1.0872487]\n",
            "140 2.602037e-05 [1.0033005] [1.0880837]\n",
            "160 2.272388e-05 [1.0030844] [1.0888641]\n",
            "180 1.9846735e-05 [1.0028825] [1.089593]\n",
            "200 1.733425e-05 [1.0026939] [1.0902743]\n",
            "220 1.5136601e-05 [1.0025173] [1.0909114]\n",
            "240 1.3219096e-05 [1.0023525] [1.0915067]\n",
            "260 1.1544102e-05 [1.0021985] [1.0920628]\n",
            "280 1.0081972e-05 [1.0020545] [1.0925827]\n",
            "300 8.8045535e-06 [1.0019199] [1.0930685]\n",
            "320 7.689412e-06 [1.0017942] [1.0935224]\n",
            "340 6.71453e-06 [1.0016767] [1.0939466]\n",
            "360 5.864031e-06 [1.0015669] [1.094343]\n",
            "380 5.1215293e-06 [1.0014642] [1.0947133]\n",
            "400 4.473428e-06 [1.0013685] [1.0950594]\n",
            "420 3.906081e-06 [1.0012789] [1.0953829]\n",
            "440 3.411425e-06 [1.0011952] [1.0956852]\n",
            "460 2.9796333e-06 [1.0011169] [1.0959677]\n",
            "480 2.602096e-06 [1.0010437] [1.0962317]\n",
            "500 2.2728386e-06 [1.0009755] [1.0964783]\n",
            "520 1.9843694e-06 [1.0009116] [1.0967091]\n",
            "540 1.7331582e-06 [1.0008519] [1.0969247]\n",
            "560 1.5135414e-06 [1.000796] [1.097126]\n",
            "580 1.3219718e-06 [1.000744] [1.0973142]\n",
            "600 1.1542401e-06 [1.0006952] [1.0974901]\n",
            "620 1.0083119e-06 [1.0006497] [1.0976543]\n",
            "640 8.807112e-07 [1.0006071] [1.0978079]\n",
            "660 7.6891064e-07 [1.0005674] [1.0979514]\n",
            "680 6.715054e-07 [1.0005304] [1.0980856]\n",
            "700 5.8654217e-07 [1.0004957] [1.0982109]\n",
            "720 5.122171e-07 [1.0004632] [1.098328]\n",
            "740 4.4734415e-07 [1.0004328] [1.0984374]\n",
            "760 3.9081033e-07 [1.0004045] [1.0985396]\n",
            "780 3.4137207e-07 [1.0003781] [1.0986351]\n",
            "800 2.9814723e-07 [1.0003535] [1.0987244]\n",
            "820 2.6048147e-07 [1.0003302] [1.0988078]\n",
            "840 2.2747959e-07 [1.0003086] [1.0988858]\n",
            "860 1.9869904e-07 [1.0002885] [1.0989587]\n",
            "880 1.7357411e-07 [1.0002695] [1.0990267]\n",
            "900 1.5162483e-07 [1.000252] [1.0990903]\n",
            "920 1.3235822e-07 [1.0002354] [1.0991498]\n",
            "940 1.1559841e-07 [1.0002201] [1.0992056]\n",
            "960 1.0110716e-07 [1.0002058] [1.0992572]\n",
            "980 8.825528e-08 [1.0001923] [1.099306]\n",
            "1000 7.70447e-08 [1.0001798] [1.0993514]\n",
            "1020 6.7315895e-08 [1.0001678] [1.0993936]\n",
            "1040 5.8834804e-08 [1.0001569] [1.0994333]\n",
            "1060 5.1418898e-08 [1.0001469] [1.0994703]\n",
            "1080 4.4934417e-08 [1.0001372] [1.0995047]\n",
            "1100 3.9257486e-08 [1.000128] [1.0995373]\n",
            "1120 3.427067e-08 [1.0001198] [1.0995675]\n",
            "1140 2.990406e-08 [1.000112] [1.0995959]\n",
            "1160 2.6142208e-08 [1.0001048] [1.0996221]\n",
            "1180 2.2885752e-08 [1.0000978] [1.0996464]\n",
            "1200 1.9950084e-08 [1.0000913] [1.0996698]\n",
            "1220 1.7469734e-08 [1.0000855] [1.0996913]\n",
            "1240 1.5264868e-08 [1.00008] [1.0997113]\n",
            "1260 1.3344061e-08 [1.0000747] [1.0997304]\n",
            "1280 1.1684051e-08 [1.00007] [1.0997474]\n",
            "1300 1.0192252e-08 [1.0000652] [1.0997641]\n",
            "1320 8.883125e-09 [1.0000609] [1.0997797]\n",
            "1340 7.760036e-09 [1.000057] [1.099794]\n",
            "1360 6.743858e-09 [1.0000532] [1.099808]\n",
            "1380 5.944912e-09 [1.00005] [1.0998199]\n",
            "1400 5.170489e-09 [1.0000466] [1.0998318]\n",
            "1420 4.526828e-09 [1.0000435] [1.0998429]\n",
            "1440 3.987543e-09 [1.000041] [1.0998524]\n",
            "1460 3.497928e-09 [1.0000384] [1.099862]\n",
            "1480 3.0267073e-09 [1.0000358] [1.0998715]\n",
            "1500 2.675688e-09 [1.0000334] [1.099879]\n",
            "1520 2.3630946e-09 [1.0000314] [1.0998862]\n",
            "1540 2.0864832e-09 [1.0000293] [1.0998933]\n",
            "1560 1.8175456e-09 [1.0000274] [1.0999005]\n",
            "1580 1.5672527e-09 [1.0000255] [1.0999076]\n",
            "1600 1.335593e-09 [1.0000236] [1.0999144]\n",
            "1620 1.1909833e-09 [1.0000223] [1.0999192]\n",
            "1640 1.0586518e-09 [1.000021] [1.099924]\n",
            "1660 9.230575e-10 [1.0000197] [1.0999287]\n",
            "1680 8.077222e-10 [1.0000184] [1.0999335]\n",
            "1700 6.994014e-10 [1.0000172] [1.0999383]\n",
            "1720 5.9009153e-10 [1.0000159] [1.099943]\n",
            "1740 5.0727067e-10 [1.0000147] [1.0999472]\n",
            "1760 4.5820342e-10 [1.000014] [1.0999497]\n",
            "1780 4.1688963e-10 [1.0000134] [1.0999521]\n",
            "1800 3.7804285e-10 [1.0000126] [1.0999545]\n",
            "1820 3.3633113e-10 [1.000012] [1.0999569]\n",
            "1840 3.0483988e-10 [1.0000113] [1.0999593]\n",
            "1860 2.6535646e-10 [1.0000107] [1.0999616]\n",
            "1880 2.3501343e-10 [1.00001] [1.099964]\n",
            "1900 2.0941116e-10 [1.0000093] [1.0999664]\n",
            "1920 1.7877255e-10 [1.0000087] [1.0999688]\n",
            "1940 1.5231763e-10 [1.0000081] [1.0999712]\n",
            "1960 1.2892087e-10 [1.0000075] [1.0999736]\n",
            "1980 1.0545591e-10 [1.0000067] [1.099976]\n",
            "2000 8.619736e-11 [1.0000062] [1.0999783]\n"
          ]
        }
      ]
    },
    {
      "cell_type": "code",
      "source": [
        "# Testing model\n",
        "print(sess.run(hypothesis, feed_dict={X:[5]}))\n",
        "print(sess.run(hypothesis, feed_dict={X: [2.5]}))\n",
        "print(sess.run(hypothesis, feed_dict={X: [1.5, 3.5]}))"
      ],
      "metadata": {
        "colab": {
          "base_uri": "https://localhost:8080/"
        },
        "id": "jUOlF2O8Z863",
        "outputId": "f7f9d93a-c4d1-4595-cfbd-951a99623d88"
      },
      "execution_count": null,
      "outputs": [
        {
          "output_type": "stream",
          "name": "stdout",
          "text": [
            "[6.1000094]\n",
            "[3.5999937]\n",
            "[2.5999875 4.6      ]\n"
          ]
        }
      ]
    },
    {
      "cell_type": "markdown",
      "source": [
        "## 3.Linear Regression의 cost 최소화 구현"
      ],
      "metadata": {
        "id": "pQ2zH-hDLQfD"
      }
    },
    {
      "cell_type": "code",
      "source": [
        "import tensorflow.compat.v1 as tf\n",
        "tf.disable_v2_behavior()\n",
        "import matplotlib.pyplot as plt\n",
        "X = [1, 2, 3]\n",
        "Y = [1, 2, 3]\n",
        "\n",
        "W = tf.placeholder(tf.float32)\n",
        "hypothesis = X * W\n",
        "cost = tf.reduce_mean(tf.square(hypothesis - Y))\n",
        "sess = tf.Session()\n",
        "sess.run(tf.global_variables_initializer())  #초기화\n",
        "W_val = []\n",
        "cost_val= []\n",
        "for i in range(-30, 50):\n",
        "  feed_W = i * 0.1\n",
        "  curr_cost, curr_W = sess.run([cost, W], feed_dict = {W: feed_W})\n",
        "  W_val.append(curr_W)\n",
        "  cost_val.append(curr_cost)\n",
        "\n",
        "plt.plot(W_val, cost_val)\n",
        "plt.show()\n"
      ],
      "metadata": {
        "colab": {
          "base_uri": "https://localhost:8080/",
          "height": 339
        },
        "id": "5HDV7iX0LXeY",
        "outputId": "2ce29d48-7940-4f2c-9132-0a0bc7d3c5fa"
      },
      "execution_count": null,
      "outputs": [
        {
          "output_type": "stream",
          "name": "stdout",
          "text": [
            "WARNING:tensorflow:From /usr/local/lib/python3.7/dist-packages/tensorflow/python/compat/v2_compat.py:111: disable_resource_variables (from tensorflow.python.ops.variable_scope) is deprecated and will be removed in a future version.\n",
            "Instructions for updating:\n",
            "non-resource variables are not supported in the long term\n"
          ]
        },
        {
          "output_type": "display_data",
          "data": {
            "image/png": "[encoded data removed]",
            "text/plain": [
              "<Figure size 432x288 with 1 Axes>"
            ]
          },
          "metadata": {
            "needs_background": "light"
          }
        }
      ]
    },
    {
      "cell_type": "code",
      "source": [
        "import tensorflow.compat.v1 as tf\n",
        "tf.disable_v2_behavior()\n",
        "\n",
        "x_data=[1, 2, 3]\n",
        "y_data=[1, 2, 3]\n",
        "\n",
        "W = tf.Variable(tf.random_normal([1]), name='weight')\n",
        "X = tf.placeholder(tf.float32)\n",
        "Y = tf.placeholder(tf.float32)\n",
        "\n",
        "# our hypothesis for linear model X*W\n",
        "hypothesis = X * W\n",
        "\n",
        "cost = tf.reduce_sum(tf.square(hypothesis - Y))\n",
        "\n",
        "# Minimize : gradient descent using derivative: W -= learning_rate * deriavative\n",
        "learning_rate = 0.1\n",
        "gradient = tf.reduce_mean((W * X - Y)* X)\n",
        "descent = W - learning_rate*gradient\n",
        "update = W.assign(descent)\n",
        "\n",
        "# 위에 minimize 대신해서 사용\n",
        "# Minimize: gradient descent magic (미분안하고 cost최소로)\n",
        "optimizer = tf.train.GradientDescentOptimizer(learning_rate=0.1)\n",
        "train = optimizer.minimize(cost)\n",
        "\n",
        "\n",
        "sess=tf.Session()\n",
        "sess.run(tf.global_variables_initializer())\n",
        "for step in range(21):\n",
        "  sess.run(update, feed_dict= {X: x_data, Y: y_data})\n",
        "  print(step, sess.run(cost, feed_dict= {X: x_data, Y: y_data}), sess.run(W))\n",
        "# step, cost, W값 순서로 출력된다\n",
        "# cost는 점점 작아지고, W는 1에 가까워진다. "
      ],
      "metadata": {
        "colab": {
          "base_uri": "https://localhost:8080/"
        },
        "id": "de0oYL4DcCV_",
        "outputId": "2eb35f1f-5673-41b1-9543-1340648bae60"
      },
      "execution_count": null,
      "outputs": [
        {
          "output_type": "stream",
          "name": "stdout",
          "text": [
            "0 2.351231 [0.590189]\n",
            "1 0.6687945 [0.7814341]\n",
            "2 0.19023475 [0.88343155]\n",
            "3 0.054111283 [0.93783015]\n",
            "4 0.015391602 [0.9668428]\n",
            "5 0.004378054 [0.98231614]\n",
            "6 0.0012453274 [0.9905686]\n",
            "7 0.00035422426 [0.9949699]\n",
            "8 0.00010076069 [0.99731725]\n",
            "9 2.8661532e-05 [0.9985692]\n",
            "10 8.15262e-06 [0.9992369]\n",
            "11 2.3188638e-06 [0.999593]\n",
            "12 6.5988814e-07 [0.9997829]\n",
            "13 1.8749729e-07 [0.99988425]\n",
            "14 5.3383587e-08 [0.99993825]\n",
            "15 1.5222117e-08 [0.99996704]\n",
            "16 4.322164e-09 [0.9999824]\n",
            "17 1.229342e-09 [0.99999064]\n",
            "18 3.5095127e-10 [0.999995]\n",
            "19 1.0168222e-10 [0.9999973]\n",
            "20 2.8649083e-11 [0.99999857]\n"
          ]
        }
      ]
    },
    {
      "cell_type": "markdown",
      "source": [
        ""
      ],
      "metadata": {
        "id": "rD_JHUgP1BNc"
      }
    },
    {
      "cell_type": "code",
      "source": [
        "import tensorflow.compat.v1 as tf\n",
        "tf.disable_v2_behavior()\n",
        "\n",
        "# tf graph input\n",
        "X = [1, 2, 3]\n",
        "Y = [1, 2, 3]\n",
        "\n",
        "# Set wrong model weights\n",
        "W = tf.Variable(5.0)\n",
        "hypothesis = X * W  # Linear Model\n",
        "cost = tf.reduce_mean(tf.square(hypothesis - Y))\n",
        "\n",
        "# Minimize: *Gradient Descent Magic*\n",
        "optimizer = tf.train.GradientDescentOptimizer(learning_rate=0.1)\n",
        "train = optimizer.minimize(cost)\n",
        " \n",
        "sess=tf.Session()\n",
        "sess.run(tf.global_variables_initializer())\n",
        "\n",
        "for step in range(100):\n",
        "  print(step, sess.run(W))\n",
        "  sess.run(train)"
      ],
      "metadata": {
        "colab": {
          "base_uri": "https://localhost:8080/"
        },
        "id": "k06NxpRJvfsp",
        "outputId": "d3a4c3c2-31fc-4f5b-fc44-d764a64e0ecd"
      },
      "execution_count": null,
      "outputs": [
        {
          "output_type": "stream",
          "name": "stdout",
          "text": [
            "0 5.0\n",
            "1 1.2666664\n",
            "2 1.0177778\n",
            "3 1.0011852\n",
            "4 1.000079\n",
            "5 1.0000052\n",
            "6 1.0000004\n",
            "7 1.0\n",
            "8 1.0\n",
            "9 1.0\n",
            "10 1.0\n",
            "11 1.0\n",
            "12 1.0\n",
            "13 1.0\n",
            "14 1.0\n",
            "15 1.0\n",
            "16 1.0\n",
            "17 1.0\n",
            "18 1.0\n",
            "19 1.0\n",
            "20 1.0\n",
            "21 1.0\n",
            "22 1.0\n",
            "23 1.0\n",
            "24 1.0\n",
            "25 1.0\n",
            "26 1.0\n",
            "27 1.0\n",
            "28 1.0\n",
            "29 1.0\n",
            "30 1.0\n",
            "31 1.0\n",
            "32 1.0\n",
            "33 1.0\n",
            "34 1.0\n",
            "35 1.0\n",
            "36 1.0\n",
            "37 1.0\n",
            "38 1.0\n",
            "39 1.0\n",
            "40 1.0\n",
            "41 1.0\n",
            "42 1.0\n",
            "43 1.0\n",
            "44 1.0\n",
            "45 1.0\n",
            "46 1.0\n",
            "47 1.0\n",
            "48 1.0\n",
            "49 1.0\n",
            "50 1.0\n",
            "51 1.0\n",
            "52 1.0\n",
            "53 1.0\n",
            "54 1.0\n",
            "55 1.0\n",
            "56 1.0\n",
            "57 1.0\n",
            "58 1.0\n",
            "59 1.0\n",
            "60 1.0\n",
            "61 1.0\n",
            "62 1.0\n",
            "63 1.0\n",
            "64 1.0\n",
            "65 1.0\n",
            "66 1.0\n",
            "67 1.0\n",
            "68 1.0\n",
            "69 1.0\n",
            "70 1.0\n",
            "71 1.0\n",
            "72 1.0\n",
            "73 1.0\n",
            "74 1.0\n",
            "75 1.0\n",
            "76 1.0\n",
            "77 1.0\n",
            "78 1.0\n",
            "79 1.0\n",
            "80 1.0\n",
            "81 1.0\n",
            "82 1.0\n",
            "83 1.0\n",
            "84 1.0\n",
            "85 1.0\n",
            "86 1.0\n",
            "87 1.0\n",
            "88 1.0\n",
            "89 1.0\n",
            "90 1.0\n",
            "91 1.0\n",
            "92 1.0\n",
            "93 1.0\n",
            "94 1.0\n",
            "95 1.0\n",
            "96 1.0\n",
            "97 1.0\n",
            "98 1.0\n",
            "99 1.0\n"
          ]
        }
      ]
    },
    {
      "cell_type": "markdown",
      "source": [
        "## 4.Multi variable Linear Regression(다변수 선형회귀)\n"
      ],
      "metadata": {
        "id": "nWuCX6RtVeKc"
      }
    },
    {
      "cell_type": "code",
      "source": [
        "import tensorflow.compat.v1 as tf\n",
        "tf.disable_v2_behavior()\n",
        "\n",
        "# data and label\n",
        "x1 = [73., 93., 89., 96., 73.]\n",
        "x2 = [80., 88., 91., 98., 66.]\n",
        "x3 = [75., 93., 90., 100., 70.]\n",
        "Y = [152., 185., 180., 196., 142.]\n",
        "\n",
        "\n",
        "# random weights (변수 3개, weight 3개)\n",
        "w1 = tf.Variable(tf.random_normal([1]))\n",
        "w2 = tf.Variable(tf.random_normal([1]))\n",
        "w3 = tf.Variable(tf.random_normal([1]))\n",
        "b = tf.Variable(tf.random_normal([1]))\n",
        "\n",
        "learning_rate = 0.000001\n",
        "\n",
        "for i in range(1000+1):\n",
        "  # tf.GradientTape() to record the gradient of the cost function\n",
        "  with tf.GradientTape() as tape:\n",
        "    hypothesis = w1*x1 + w2*x2 + w3*x3 + b\n",
        "    cost = tf.reduce_mean(tf.square(hypothesis-Y))\n",
        "  w1_grad, w2_grad, w3_grad, b_grad = tape.gradient(cost, [w1, w2, w3, b])\n",
        "  \n",
        "  w1.assign_sub(learning_rate * w1_grad)  # 값을 업데이트\n",
        "  w2.assign_sub(learning_rate * w2_grad)\n",
        "  w3.assign_sub(learning_rate * w3_grad)\n",
        "  b.assign_sub(learning_rate * b_grad)\n",
        "\n",
        "  if i % 50 == 0:\n",
        "    print(\"{:5} | {:12.4f}\".format(i, cost.numpy()))\n",
        "\n"
      ],
      "metadata": {
        "id": "SXwhKbGHVdoX",
        "colab": {
          "base_uri": "https://localhost:8080/",
          "height": 457
        },
        "outputId": "ffa13274-6cb7-4bd3-89f0-c97993350a96"
      },
      "execution_count": 1,
      "outputs": [
        {
          "output_type": "stream",
          "name": "stdout",
          "text": [
            "WARNING:tensorflow:From /usr/local/lib/python3.7/dist-packages/tensorflow/python/compat/v2_compat.py:111: disable_resource_variables (from tensorflow.python.ops.variable_scope) is deprecated and will be removed in a future version.\n",
            "Instructions for updating:\n",
            "non-resource variables are not supported in the long term\n"
          ]
        },
        {
          "output_type": "error",
          "ename": "AttributeError",
          "evalue": "ignored",
          "traceback": [
            "\u001b[0;31m---------------------------------------------------------------------------\u001b[0m",
            "\u001b[0;31mAttributeError\u001b[0m                            Traceback (most recent call last)",
            "\u001b[0;32m<ipython-input-1-bfb164001e75>\u001b[0m in \u001b[0;36m<module>\u001b[0;34m()\u001b[0m\n\u001b[1;32m     22\u001b[0m     \u001b[0mhypothesis\u001b[0m \u001b[0;34m=\u001b[0m \u001b[0mw1\u001b[0m\u001b[0;34m*\u001b[0m\u001b[0mx1\u001b[0m \u001b[0;34m+\u001b[0m \u001b[0mw2\u001b[0m\u001b[0;34m*\u001b[0m\u001b[0mx2\u001b[0m \u001b[0;34m+\u001b[0m \u001b[0mw3\u001b[0m\u001b[0;34m*\u001b[0m\u001b[0mx3\u001b[0m \u001b[0;34m+\u001b[0m \u001b[0mb\u001b[0m\u001b[0;34m\u001b[0m\u001b[0;34m\u001b[0m\u001b[0m\n\u001b[1;32m     23\u001b[0m     \u001b[0mcost\u001b[0m \u001b[0;34m=\u001b[0m \u001b[0mtf\u001b[0m\u001b[0;34m.\u001b[0m\u001b[0mreduce_mean\u001b[0m\u001b[0;34m(\u001b[0m\u001b[0mtf\u001b[0m\u001b[0;34m.\u001b[0m\u001b[0msquare\u001b[0m\u001b[0;34m(\u001b[0m\u001b[0mhypothesis\u001b[0m\u001b[0;34m-\u001b[0m\u001b[0mY\u001b[0m\u001b[0;34m)\u001b[0m\u001b[0;34m)\u001b[0m\u001b[0;34m\u001b[0m\u001b[0;34m\u001b[0m\u001b[0m\n\u001b[0;32m---> 24\u001b[0;31m   \u001b[0mw1_grad\u001b[0m\u001b[0;34m,\u001b[0m \u001b[0mw2_grad\u001b[0m\u001b[0;34m,\u001b[0m \u001b[0mw3_grad\u001b[0m\u001b[0;34m,\u001b[0m \u001b[0mb_grad\u001b[0m \u001b[0;34m=\u001b[0m \u001b[0mtape\u001b[0m\u001b[0;34m.\u001b[0m\u001b[0mgradient\u001b[0m\u001b[0;34m(\u001b[0m\u001b[0mcost\u001b[0m\u001b[0;34m,\u001b[0m \u001b[0;34m[\u001b[0m\u001b[0mw1\u001b[0m\u001b[0;34m,\u001b[0m \u001b[0mw2\u001b[0m\u001b[0;34m,\u001b[0m \u001b[0mw3\u001b[0m\u001b[0;34m,\u001b[0m \u001b[0mb\u001b[0m\u001b[0;34m]\u001b[0m\u001b[0;34m)\u001b[0m\u001b[0;34m\u001b[0m\u001b[0;34m\u001b[0m\u001b[0m\n\u001b[0m\u001b[1;32m     25\u001b[0m \u001b[0;34m\u001b[0m\u001b[0m\n\u001b[1;32m     26\u001b[0m   \u001b[0mw1\u001b[0m\u001b[0;34m.\u001b[0m\u001b[0massign_sub\u001b[0m\u001b[0;34m(\u001b[0m\u001b[0mlearning_rate\u001b[0m \u001b[0;34m*\u001b[0m \u001b[0mw1_grad\u001b[0m\u001b[0;34m)\u001b[0m  \u001b[0;31m# 값을 업데이트\u001b[0m\u001b[0;34m\u001b[0m\u001b[0;34m\u001b[0m\u001b[0m\n",
            "\u001b[0;32m/usr/local/lib/python3.7/dist-packages/tensorflow/python/eager/backprop.py\u001b[0m in \u001b[0;36mgradient\u001b[0;34m(self, target, sources, output_gradients, unconnected_gradients)\u001b[0m\n\u001b[1;32m   1088\u001b[0m         \u001b[0moutput_gradients\u001b[0m\u001b[0;34m=\u001b[0m\u001b[0moutput_gradients\u001b[0m\u001b[0;34m,\u001b[0m\u001b[0;34m\u001b[0m\u001b[0;34m\u001b[0m\u001b[0m\n\u001b[1;32m   1089\u001b[0m         \u001b[0msources_raw\u001b[0m\u001b[0;34m=\u001b[0m\u001b[0mflat_sources_raw\u001b[0m\u001b[0;34m,\u001b[0m\u001b[0;34m\u001b[0m\u001b[0;34m\u001b[0m\u001b[0m\n\u001b[0;32m-> 1090\u001b[0;31m         unconnected_gradients=unconnected_gradients)\n\u001b[0m\u001b[1;32m   1091\u001b[0m \u001b[0;34m\u001b[0m\u001b[0m\n\u001b[1;32m   1092\u001b[0m     \u001b[0;32mif\u001b[0m \u001b[0;32mnot\u001b[0m \u001b[0mself\u001b[0m\u001b[0;34m.\u001b[0m\u001b[0m_persistent\u001b[0m\u001b[0;34m:\u001b[0m\u001b[0;34m\u001b[0m\u001b[0;34m\u001b[0m\u001b[0m\n",
            "\u001b[0;32m/usr/local/lib/python3.7/dist-packages/tensorflow/python/eager/imperative_grad.py\u001b[0m in \u001b[0;36mimperative_grad\u001b[0;34m(tape, target, sources, output_gradients, sources_raw, unconnected_gradients)\u001b[0m\n\u001b[1;32m     75\u001b[0m       \u001b[0moutput_gradients\u001b[0m\u001b[0;34m,\u001b[0m\u001b[0;34m\u001b[0m\u001b[0;34m\u001b[0m\u001b[0m\n\u001b[1;32m     76\u001b[0m       \u001b[0msources_raw\u001b[0m\u001b[0;34m,\u001b[0m\u001b[0;34m\u001b[0m\u001b[0;34m\u001b[0m\u001b[0m\n\u001b[0;32m---> 77\u001b[0;31m       compat.as_str(unconnected_gradients.value))\n\u001b[0m",
            "\u001b[0;31mAttributeError\u001b[0m: 'RefVariable' object has no attribute '_id'"
          ]
        }
      ]
    },
    {
      "cell_type": "markdown",
      "source": [
        "행렬을 사용하여 간단하게 나타내기\n",
        "![image.png](data:image/png;base64,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)\n",
        "\n",
        "-> 데이터 슬라이싱  \n",
        "x = data[:, :-1]  콤마를 기준으로 행, 열을 의미\n",
        "-마지막 열을 제외한 행렬\n",
        "\n",
        "y = data[:, [-1]]  콜론앞뒤 아무것도X -> 처음부터 끝까지를 의미 \n",
        "-[-1]: 마지막 열을 의미"
      ],
      "metadata": {
        "id": "nEOEmUbaeLAm"
      }
    },
    {
      "cell_type": "code",
      "source": [
        "data = np.array([\n",
        "                 [73., 80., 75., 152.],\n",
        "                 [93., 88., 93., 185.],\n",
        "                 [89., 91., 90., 180.],\n",
        "                 [96., 98., 100., 196.],\n",
        "                 [73., 66., 70., 142.],\n",
        "])\n",
        "\n",
        "x = data[:, :-1]\n",
        "y = data[:, [-1]]\n",
        "\n",
        "W = tf,Variable(tf.random_normal([3, 1]))\n",
        "b = tf.Variable(tf.random_normal([1]))\n",
        "\n",
        "learning_rate = 0.000001\n",
        "\n",
        "def predict(X):\n",
        "  return tf.matmul(X, W) + b\n",
        "\n",
        "n_epochs = 2000\n",
        "for i in range(n_epochs+1):\n",
        "  # record the gradient of the cost function\n",
        "  with tf.GradientTape() as tape:\n",
        "    cost = tf.reduce_mean(tf.square(predict(X)-Y))\n",
        "  W_grad, b_grad = tape.gradient(cost, [W, b])\n",
        "  \n",
        "  W.assign_sub(learning_rate * W_grad)  # 값을 업데이트\n",
        "  b.assign_sub(learning_rate * b_grad)\n",
        "\n",
        "  if i % 100 == 0:\n",
        "    print(\"{:5} | {:10.4f}\".format(i, cost.numpy()))\n",
        "\n",
        "\n"
      ],
      "metadata": {
        "id": "KbpfYZYl625c"
      },
      "execution_count": null,
      "outputs": []
    }
  ]
}