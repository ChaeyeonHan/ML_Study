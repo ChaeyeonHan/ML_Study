{
  "nbformat": 4,
  "nbformat_minor": 0,
  "metadata": {
    "colab": {
      "name": "모두를 위한 딥러닝.ipynb",
      "provenance": [],
      "collapsed_sections": [],
      "authorship_tag": "ABX9TyP3nOaLWxuqJ7F914Os7jc7",
      "include_colab_link": true
    },
    "kernelspec": {
      "name": "python3",
      "display_name": "Python 3"
    },
    "language_info": {
      "name": "python"
    }
  },
  "cells": [
    {
      "cell_type": "markdown",
      "metadata": {
        "id": "view-in-github",
        "colab_type": "text"
      },
      "source": [
        "<a href=\"https://colab.research.google.com/github/ChaeyeonHan/ML_Study/blob/main/%EB%AA%A8%EB%91%90%EB%A5%BC_%EC%9C%84%ED%95%9C_%EB%94%A5%EB%9F%AC%EB%8B%9D.ipynb\" target=\"_parent\"><img src=\"https://colab.research.google.com/assets/colab-badge.svg\" alt=\"Open In Colab\"/></a>"
      ]
    },
    {
      "cell_type": "code",
      "metadata": {
        "id": "kYidsafyvwz_",
        "colab": {
          "base_uri": "https://localhost:8080/"
        },
        "outputId": "cc1c3251-7418-47a3-ec4b-c77e0fcd7214"
      },
      "source": [
        "import pandas as pd\n",
        "import numpy as np\n",
        "print(np.__version__)"
      ],
      "execution_count": null,
      "outputs": [
        {
          "output_type": "stream",
          "name": "stdout",
          "text": [
            "1.19.5\n"
          ]
        }
      ]
    },
    {
      "cell_type": "markdown",
      "source": [
        ""
      ],
      "metadata": {
        "id": "SC4hlrO11tjN"
      }
    },
    {
      "cell_type": "code",
      "source": [
        "import tensorflow.compat.v1 as tf\n",
        "tf.disable_v2_behavior()\n",
        "# print(tf.__version__)\n",
        "hello = tf.constant(\"Hello, TensorFlow!\")\n",
        "sess = tf.Session()\n",
        "\n",
        "print(sess.run(hello))"
      ],
      "metadata": {
        "colab": {
          "base_uri": "https://localhost:8080/"
        },
        "id": "FyuijeMG2k0G",
        "outputId": "e0877e4f-1865-4d97-ce6f-4e01159014fc"
      },
      "execution_count": null,
      "outputs": [
        {
          "output_type": "stream",
          "name": "stdout",
          "text": [
            "b'Hello, TensorFlow!'\n"
          ]
        }
      ]
    },
    {
      "cell_type": "code",
      "source": [
        "node1 = tf.constant(3.0, tf.float32)\n",
        "node2 = tf.constant(4.0)\n",
        "node3 = tf.add(node1, node2)"
      ],
      "metadata": {
        "id": "Xa2ENaLhBg3q"
      },
      "execution_count": null,
      "outputs": []
    },
    {
      "cell_type": "code",
      "source": [
        "print(\"node1: \", node1, \"node2: \", node2)\n",
        "print(\"node2: \", node3)"
      ],
      "metadata": {
        "colab": {
          "base_uri": "https://localhost:8080/"
        },
        "id": "p7Gnucq7EZdk",
        "outputId": "da33a54b-268c-44bd-d2a7-4e0891d0ee22"
      },
      "execution_count": null,
      "outputs": [
        {
          "output_type": "stream",
          "name": "stdout",
          "text": [
            "node1:  Tensor(\"Const_2:0\", shape=(), dtype=float32) node2:  Tensor(\"Const_3:0\", shape=(), dtype=float32)\n",
            "node2:  Tensor(\"Add:0\", shape=(), dtype=float32)\n"
          ]
        }
      ]
    },
    {
      "cell_type": "code",
      "source": [
        "sess = tf.Session()\n",
        "print(\"sess.run(node1, node2): \", sess.run([node1,node2]))\n",
        "print(\"sess.run(node3): \",sess.run(node3))"
      ],
      "metadata": {
        "colab": {
          "base_uri": "https://localhost:8080/"
        },
        "id": "0XGMxsuAEedy",
        "outputId": "4b1f111d-5286-49d1-b6fa-bf596d0dab5a"
      },
      "execution_count": null,
      "outputs": [
        {
          "output_type": "stream",
          "name": "stdout",
          "text": [
            "sess.run(node1, node2):  [3.0, 4.0]\n",
            "sess.run(node3):  7.0\n"
          ]
        }
      ]
    },
    {
      "cell_type": "code",
      "source": [
        "# Placeholder\n",
        "a = tf.placeholder(tf.float32)\n",
        "b = tf.placeholder(tf.float32)\n",
        "adder_node = a + b\n",
        "\n",
        "print(sess.run(adder_node, feed_dict={a: 3, b: 4.5}))  # a=3, b=4.5 더해서 출력하기\n",
        "print(sess.run(adder_node, feed_dict={a:[1,3], b:[2,4]}))  #값을 여러개 주기"
      ],
      "metadata": {
        "colab": {
          "base_uri": "https://localhost:8080/"
        },
        "id": "PytXNdZPEptf",
        "outputId": "34a996ad-0eb8-4a0c-c9c1-6c9be0c982bf"
      },
      "execution_count": null,
      "outputs": [
        {
          "output_type": "stream",
          "name": "stdout",
          "text": [
            "7.5\n",
            "[3. 7.]\n"
          ]
        }
      ]
    },
    {
      "cell_type": "markdown",
      "source": [
        "## Linear Regression 구현\n",
        "### 1. build graph  2. feed data and run graph  3. update variables in the graph"
      ],
      "metadata": {
        "id": "VrsKh3b5shAM"
      }
    },
    {
      "cell_type": "code",
      "source": [
        "import tensorflow.compat.v1 as tf\n",
        "tf.disable_v2_behavior()\n",
        "# H(x) = Wx + b\n",
        "x_train = [1, 2, 3]\n",
        "y_train = [1, 2, 3]\n",
        "\n",
        "# 여기서 Variable은 tensorflow가 학습하는 과정에서 변경시키는 data\n",
        "W = tf.Variable(tf.random_normal([1]), name = 'weight')\n",
        "b = tf.Variable(tf.random_normal([1]), name = 'bias')\n",
        "\n",
        "# 우리의 hypothesis XW + b\n",
        "hypothesis = x_train * W + b\n",
        "\n",
        "# cost/loss function\n",
        "cost = tf.reduce_mean(tf.square(hypothesis - y_train))  # reduce_mean:평균내주는 기능\n",
        "\n",
        "# GradientDescent -> Minimize\n",
        "optimizer = tf.train.GradientDescentOptimizer(learning_rate=0.01)\n",
        "train = optimizer.minimize(cost) # 그래프 구현까지 완료"
      ],
      "metadata": {
        "id": "5fTF9aw5smRQ"
      },
      "execution_count": null,
      "outputs": []
    },
    {
      "cell_type": "code",
      "source": [
        "sess = tf.Session()\n",
        "sess.run(tf.global_variables_initializer())  # Variable 초기화\n",
        "\n",
        "for step in range(2001):\n",
        "  sess.run(train)\n",
        "  if step % 20 == 0:\n",
        "    print(step, sess.run(cost), sess.run(W), sess.run(b))"
      ],
      "metadata": {
        "colab": {
          "base_uri": "https://localhost:8080/"
        },
        "id": "9Hm1T8UxvHZU",
        "outputId": "0c640064-664d-4561-880a-d64fd043505f"
      },
      "execution_count": null,
      "outputs": [
        {
          "output_type": "stream",
          "name": "stdout",
          "text": [
            "0 0.036881674 [0.92315215] [0.33520222]\n",
            "20 0.012664523 [0.8760173] [0.2971255]\n",
            "40 0.011313244 [0.87701195] [0.28103605]\n",
            "60 0.010273161 [0.8823318] [0.26762605]\n",
            "80 0.009330221 [0.887818] [0.2550293]\n",
            "100 0.008473859 [0.89308596] [0.24304198]\n",
            "120 0.007696098 [0.8981101] [0.23161972]\n",
            "140 0.006989719 [0.90289855] [0.22073448]\n",
            "160 0.006348178 [0.9074619] [0.2103608]\n",
            "180 0.0057655177 [0.9118109] [0.20047465]\n",
            "200 0.0052363393 [0.9159554] [0.19105305]\n",
            "220 0.004755723 [0.9199052] [0.18207425]\n",
            "240 0.004319224 [0.92366934] [0.17351744]\n",
            "260 0.0039227908 [0.9272566] [0.1653628]\n",
            "280 0.003562737 [0.9306753] [0.15759133]\n",
            "300 0.0032357376 [0.93393326] [0.15018511]\n",
            "320 0.0029387502 [0.9370382] [0.14312702]\n",
            "340 0.0026690215 [0.93999714] [0.13640057]\n",
            "360 0.0024240457 [0.94281703] [0.12999026]\n",
            "380 0.0022015583 [0.9455044] [0.12388118]\n",
            "400 0.0019994883 [0.9480656] [0.11805923]\n",
            "420 0.0018159646 [0.9505063] [0.11251085]\n",
            "440 0.0016492883 [0.95283234] [0.10722326]\n",
            "460 0.0014979118 [0.95504904] [0.10218412]\n",
            "480 0.0013604254 [0.95716155] [0.09738185]\n",
            "500 0.0012355635 [0.9591748] [0.09280527]\n",
            "520 0.0011221553 [0.9610935] [0.08844373]\n",
            "540 0.0010191597 [0.9629219] [0.0842872]\n",
            "560 0.00092561817 [0.96466446] [0.08032602]\n",
            "580 0.0008406604 [0.9663251] [0.07655101]\n",
            "600 0.0007635022 [0.96790767] [0.07295338]\n",
            "620 0.00069342507 [0.9694159] [0.06952485]\n",
            "640 0.0006297798 [0.97085327] [0.0662574]\n",
            "660 0.0005719733 [0.9722231] [0.06314348]\n",
            "680 0.00051947404 [0.9735285] [0.06017594]\n",
            "700 0.0004717959 [0.9747725] [0.05734791]\n",
            "720 0.00042849212 [0.97595817] [0.05465276]\n",
            "740 0.00038916335 [0.97708803] [0.05208427]\n",
            "760 0.00035344393 [0.9781648] [0.04963652]\n",
            "780 0.0003210045 [0.9791909] [0.04730379]\n",
            "800 0.00029154122 [0.98016894] [0.04508077]\n",
            "820 0.00026478432 [0.9811009] [0.04296211]\n",
            "840 0.00024048095 [0.9819891] [0.04094305]\n",
            "860 0.00021840826 [0.98283553] [0.03901888]\n",
            "880 0.00019836154 [0.98364216] [0.03718514]\n",
            "900 0.00018015498 [0.9844109] [0.0354376]\n",
            "920 0.00016362146 [0.98514354] [0.03377219]\n",
            "940 0.00014860294 [0.98584175] [0.03218504]\n",
            "960 0.00013496404 [0.9865071] [0.03067246]\n",
            "980 0.00012257537 [0.98714125] [0.02923097]\n",
            "1000 0.00011132574 [0.9877455] [0.02785723]\n",
            "1020 0.00010110801 [0.9883215] [0.02654804]\n",
            "1040 9.182718e-05 [0.98887026] [0.02530038]\n",
            "1060 8.339951e-05 [0.9893933] [0.0241114]\n",
            "1080 7.574476e-05 [0.98989195] [0.02297823]\n",
            "1100 6.879195e-05 [0.99036694] [0.02189824]\n",
            "1120 6.247717e-05 [0.99081975] [0.02086904]\n",
            "1140 5.6743153e-05 [0.9912512] [0.01988824]\n",
            "1160 5.1534545e-05 [0.9916623] [0.01895356]\n",
            "1180 4.6804893e-05 [0.99205416] [0.0180628]\n",
            "1200 4.2508716e-05 [0.9924276] [0.01721391]\n",
            "1220 3.8607286e-05 [0.9927835] [0.01640492]\n",
            "1240 3.5063633e-05 [0.9931226] [0.01563394]\n",
            "1260 3.1845582e-05 [0.9934458] [0.01489923]\n",
            "1280 2.8922934e-05 [0.9937538] [0.01419902]\n",
            "1300 2.6267857e-05 [0.9940474] [0.01353172]\n",
            "1320 2.385673e-05 [0.9943271] [0.01289577]\n",
            "1340 2.1667227e-05 [0.9945938] [0.0122897]\n",
            "1360 1.9678815e-05 [0.9948477] [0.01171216]\n",
            "1380 1.7872893e-05 [0.9950899] [0.01116179]\n",
            "1400 1.623241e-05 [0.9953207] [0.01063723]\n",
            "1420 1.4742461e-05 [0.99554056] [0.01013732]\n",
            "1440 1.338938e-05 [0.9957501] [0.00966091]\n",
            "1460 1.2160395e-05 [0.9959499] [0.00920689]\n",
            "1480 1.1044359e-05 [0.9961402] [0.00877421]\n",
            "1500 1.00306415e-05 [0.9963216] [0.00836185]\n",
            "1520 9.110009e-06 [0.9964945] [0.00796888]\n",
            "1540 8.274047e-06 [0.99665916] [0.00759439]\n",
            "1560 7.51417e-06 [0.9968163] [0.00723748]\n",
            "1580 6.824641e-06 [0.9969659] [0.00689733]\n",
            "1600 6.198226e-06 [0.99710846] [0.00657316]\n",
            "1620 5.629458e-06 [0.9972443] [0.00626425]\n",
            "1640 5.112699e-06 [0.9973738] [0.00596987]\n",
            "1660 4.6433406e-06 [0.9974972] [0.00568933]\n",
            "1680 4.21728e-06 [0.99761486] [0.00542196]\n",
            "1700 3.8301146e-06 [0.997727] [0.00516714]\n",
            "1720 3.4785814e-06 [0.9978338] [0.00492431]\n",
            "1740 3.1594057e-06 [0.99793553] [0.0046929]\n",
            "1760 2.8693528e-06 [0.9980326] [0.00447237]\n",
            "1780 2.6060418e-06 [0.9981251] [0.00426218]\n",
            "1800 2.366953e-06 [0.9982132] [0.00406186]\n",
            "1820 2.1497403e-06 [0.9982971] [0.00387098]\n",
            "1840 1.9524102e-06 [0.9983772] [0.00368907]\n",
            "1860 1.7731094e-06 [0.99845344] [0.00351572]\n",
            "1880 1.6104347e-06 [0.9985261] [0.00335051]\n",
            "1900 1.4625643e-06 [0.99859536] [0.00319308]\n",
            "1920 1.3283619e-06 [0.99866134] [0.00304301]\n",
            "1940 1.2064432e-06 [0.9987243] [0.00290002]\n",
            "1960 1.0957074e-06 [0.9987842] [0.00276375]\n",
            "1980 9.951714e-07 [0.99884135] [0.00263388]\n",
            "2000 9.0382264e-07 [0.99889576] [0.00251013]\n"
          ]
        }
      ]
    },
    {
      "cell_type": "markdown",
      "source": [
        "## 동일한 예제 Placeholders를 사용해서\n",
        "### Placeholder를 사용하면, "
      ],
      "metadata": {
        "id": "x8BF6Q6ZxspC"
      }
    },
    {
      "cell_type": "code",
      "source": [
        "import tensorflow as tf\n",
        "W = tf.Variable(tf.ramdom_normal([1]), name='weight')\n",
        "b = tf.Variable(tf.random_normal([1]), name='bias')\n",
        "X = tf.placeholder(tf.float32, shape=[None])\n",
        "Y = tf.placeholder(tf.float32, shape=[None])\n",
        "\n"
      ],
      "metadata": {
        "id": "fRHVbg5pxwU4"
      },
      "execution_count": null,
      "outputs": []
    }
  ]
}