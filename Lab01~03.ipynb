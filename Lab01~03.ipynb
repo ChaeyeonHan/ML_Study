{
  "nbformat": 4,
  "nbformat_minor": 0,
  "metadata": {
    "colab": {
      "name": "Lab01~03.ipynb",
      "provenance": [],
      "collapsed_sections": [],
      "authorship_tag": "ABX9TyPkTLeOQT77ewXtZqMTctuk",
      "include_colab_link": true
    },
    "kernelspec": {
      "name": "python3",
      "display_name": "Python 3"
    },
    "language_info": {
      "name": "python"
    }
  },
  "cells": [
    {
      "cell_type": "markdown",
      "metadata": {
        "id": "view-in-github",
        "colab_type": "text"
      },
      "source": [
        "<a href=\"https://colab.research.google.com/github/ChaeyeonHan/ML_Study/blob/main/Lab01~03.ipynb\" target=\"_parent\"><img src=\"https://colab.research.google.com/assets/colab-badge.svg\" alt=\"Open In Colab\"/></a>"
      ]
    },
    {
      "cell_type": "code",
      "metadata": {
        "id": "kYidsafyvwz_",
        "colab": {
          "base_uri": "https://localhost:8080/"
        },
        "outputId": "cc1c3251-7418-47a3-ec4b-c77e0fcd7214"
      },
      "source": [
        "import pandas as pd\n",
        "import numpy as np\n",
        "print(np.__version__)"
      ],
      "execution_count": null,
      "outputs": [
        {
          "output_type": "stream",
          "name": "stdout",
          "text": [
            "1.19.5\n"
          ]
        }
      ]
    },
    {
      "cell_type": "markdown",
      "source": [
        ""
      ],
      "metadata": {
        "id": "SC4hlrO11tjN"
      }
    },
    {
      "cell_type": "code",
      "source": [
        "import tensorflow.compat.v1 as tf\n",
        "tf.disable_v2_behavior()\n",
        "# print(tf.__version__)\n",
        "hello = tf.constant(\"Hello, TensorFlow!\")\n",
        "sess = tf.Session()\n",
        "\n",
        "print(sess.run(hello))"
      ],
      "metadata": {
        "colab": {
          "base_uri": "https://localhost:8080/"
        },
        "id": "FyuijeMG2k0G",
        "outputId": "e0877e4f-1865-4d97-ce6f-4e01159014fc"
      },
      "execution_count": null,
      "outputs": [
        {
          "output_type": "stream",
          "name": "stdout",
          "text": [
            "b'Hello, TensorFlow!'\n"
          ]
        }
      ]
    },
    {
      "cell_type": "code",
      "source": [
        "node1 = tf.constant(3.0, tf.float32)\n",
        "node2 = tf.constant(4.0)\n",
        "node3 = tf.add(node1, node2)"
      ],
      "metadata": {
        "id": "Xa2ENaLhBg3q"
      },
      "execution_count": null,
      "outputs": []
    },
    {
      "cell_type": "code",
      "source": [
        "print(\"node1: \", node1, \"node2: \", node2)\n",
        "print(\"node2: \", node3)"
      ],
      "metadata": {
        "colab": {
          "base_uri": "https://localhost:8080/"
        },
        "id": "p7Gnucq7EZdk",
        "outputId": "da33a54b-268c-44bd-d2a7-4e0891d0ee22"
      },
      "execution_count": null,
      "outputs": [
        {
          "output_type": "stream",
          "name": "stdout",
          "text": [
            "node1:  Tensor(\"Const_2:0\", shape=(), dtype=float32) node2:  Tensor(\"Const_3:0\", shape=(), dtype=float32)\n",
            "node2:  Tensor(\"Add:0\", shape=(), dtype=float32)\n"
          ]
        }
      ]
    },
    {
      "cell_type": "code",
      "source": [
        "sess = tf.Session()\n",
        "print(\"sess.run(node1, node2): \", sess.run([node1,node2]))\n",
        "print(\"sess.run(node3): \",sess.run(node3))"
      ],
      "metadata": {
        "colab": {
          "base_uri": "https://localhost:8080/"
        },
        "id": "0XGMxsuAEedy",
        "outputId": "4b1f111d-5286-49d1-b6fa-bf596d0dab5a"
      },
      "execution_count": null,
      "outputs": [
        {
          "output_type": "stream",
          "name": "stdout",
          "text": [
            "sess.run(node1, node2):  [3.0, 4.0]\n",
            "sess.run(node3):  7.0\n"
          ]
        }
      ]
    },
    {
      "cell_type": "code",
      "source": [
        "# Placeholder\n",
        "a = tf.placeholder(tf.float32)\n",
        "b = tf.placeholder(tf.float32)\n",
        "adder_node = a + b\n",
        "\n",
        "print(sess.run(adder_node, feed_dict={a: 3, b: 4.5}))  # a=3, b=4.5 더해서 출력하기\n",
        "print(sess.run(adder_node, feed_dict={a:[1,3], b:[2,4]}))  #값을 여러개 주기"
      ],
      "metadata": {
        "colab": {
          "base_uri": "https://localhost:8080/"
        },
        "id": "PytXNdZPEptf",
        "outputId": "34a996ad-0eb8-4a0c-c9c1-6c9be0c982bf"
      },
      "execution_count": null,
      "outputs": [
        {
          "output_type": "stream",
          "name": "stdout",
          "text": [
            "7.5\n",
            "[3. 7.]\n"
          ]
        }
      ]
    },
    {
      "cell_type": "markdown",
      "source": [
        "## Linear Regression 구현\n",
        "### 1. build graph  2. feed data and run graph  3. update variables in the graph"
      ],
      "metadata": {
        "id": "VrsKh3b5shAM"
      }
    },
    {
      "cell_type": "code",
      "source": [
        "import tensorflow.compat.v1 as tf\n",
        "tf.disable_v2_behavior()\n",
        "# H(x) = Wx + b\n",
        "x_train = [1, 2, 3]\n",
        "y_train = [1, 2, 3]\n",
        "\n",
        "# 여기서 Variable은 tensorflow가 학습하는 과정에서 변경시키는 data\n",
        "W = tf.Variable(tf.random_normal([1]), name = 'weight')\n",
        "b = tf.Variable(tf.random_normal([1]), name = 'bias')\n",
        "\n",
        "# 우리의 hypothesis XW + b\n",
        "hypothesis = x_train * W + b\n",
        "\n",
        "# cost/loss function\n",
        "cost = tf.reduce_mean(tf.square(hypothesis - y_train))  # reduce_mean:평균내주는 기능\n",
        "\n",
        "# GradientDescent -> Minimize\n",
        "optimizer = tf.train.GradientDescentOptimizer(learning_rate=0.01)\n",
        "train = optimizer.minimize(cost) # 그래프 구현까지 완료"
      ],
      "metadata": {
        "id": "5fTF9aw5smRQ",
        "colab": {
          "base_uri": "https://localhost:8080/"
        },
        "outputId": "db3407db-45f2-42e3-84a7-5d34ca008f5f"
      },
      "execution_count": null,
      "outputs": [
        {
          "output_type": "stream",
          "name": "stdout",
          "text": [
            "WARNING:tensorflow:From /usr/local/lib/python3.7/dist-packages/tensorflow/python/compat/v2_compat.py:111: disable_resource_variables (from tensorflow.python.ops.variable_scope) is deprecated and will be removed in a future version.\n",
            "Instructions for updating:\n",
            "non-resource variables are not supported in the long term\n"
          ]
        }
      ]
    },
    {
      "cell_type": "code",
      "source": [
        "sess = tf.Session()\n",
        "sess.run(tf.global_variables_initializer())  # Variable 초기화\n",
        "\n",
        "for step in range(2001):\n",
        "  sess.run(train)\n",
        "  if step % 20 == 0:\n",
        "    print(step, sess.run(cost), sess.run(W), sess.run(b))"
      ],
      "metadata": {
        "colab": {
          "base_uri": "https://localhost:8080/"
        },
        "id": "9Hm1T8UxvHZU",
        "outputId": "a236aac1-236d-4acc-cb26-1cb20b5feccc"
      },
      "execution_count": null,
      "outputs": [
        {
          "output_type": "stream",
          "name": "stdout",
          "text": [
            "0 12.056712 [-0.6133708] [0.01404778]\n",
            "20 0.15674992 [0.61754835] [0.5215166]\n",
            "40 0.044502575 [0.7455097] [0.5453909]\n",
            "60 0.039530676 [0.7679427] [0.5243665]\n",
            "80 0.03589435 [0.77984583] [0.50016195]\n",
            "100 0.032599755 [0.79028714] [0.47669798]\n",
            "120 0.029607618 [0.80015194] [0.4542989]\n",
            "140 0.026890123 [0.80954486] [0.43294895]\n",
            "160 0.024422035 [0.81849575] [0.41260192]\n",
            "180 0.022180485 [0.82702583] [0.39321113]\n",
            "200 0.020144677 [0.8351549] [0.3747316]\n",
            "220 0.018295715 [0.84290206] [0.3571206]\n",
            "240 0.016616454 [0.85028505] [0.34033725]\n",
            "260 0.015091337 [0.857321] [0.3243427]\n",
            "280 0.013706196 [0.8640265] [0.3090998]\n",
            "300 0.012448176 [0.87041676] [0.29457325]\n",
            "320 0.01130564 [0.87650675] [0.28072938]\n",
            "340 0.010267959 [0.8823104] [0.26753607]\n",
            "360 0.009325519 [0.88784134] [0.25496286]\n",
            "380 0.008469587 [0.8931125] [0.24298055]\n",
            "400 0.00769222 [0.89813566] [0.23156136]\n",
            "420 0.0069861985 [0.90292305] [0.22067884]\n",
            "440 0.006344979 [0.9074852] [0.21030773]\n",
            "460 0.0057626055 [0.9118331] [0.20042405]\n",
            "480 0.005233688 [0.91597664] [0.19100486]\n",
            "500 0.0047533284 [0.9199254] [0.18202837]\n",
            "520 0.004317045 [0.92368865] [0.17347369]\n",
            "540 0.00392081 [0.92727494] [0.16532105]\n",
            "560 0.003560939 [0.9306928] [0.1575516]\n",
            "580 0.0032341033 [0.93395] [0.15014726]\n",
            "600 0.0029372673 [0.9370541] [0.14309086]\n",
            "620 0.002667675 [0.94001234] [0.13636613]\n",
            "640 0.002422822 [0.9428315] [0.12995741]\n",
            "660 0.0022004438 [0.94551826] [0.12384984]\n",
            "680 0.0019984795 [0.94807863] [0.11802937]\n",
            "700 0.0018150493 [0.9505187] [0.11248246]\n",
            "720 0.0016484581 [0.9528442] [0.1071962]\n",
            "740 0.0014971568 [0.9550604] [0.10215834]\n",
            "760 0.0013597426 [0.95717233] [0.09735727]\n",
            "780 0.001234943 [0.959185] [0.09278189]\n",
            "800 0.0011215912 [0.96110326] [0.08842149]\n",
            "820 0.0010186476 [0.9629312] [0.08426601]\n",
            "840 0.0009251521 [0.96467334] [0.08030584]\n",
            "860 0.00084024 [0.96633357] [0.07653178]\n",
            "880 0.00076311984 [0.9679157] [0.07293506]\n",
            "900 0.0006930772 [0.9694234] [0.06950745]\n",
            "920 0.000629464 [0.97086054] [0.06624088]\n",
            "940 0.0005716889 [0.97223] [0.06312779]\n",
            "960 0.0005192177 [0.97353506] [0.06016099]\n",
            "980 0.00047156145 [0.9747789] [0.05733365]\n",
            "1000 0.00042827905 [0.9759641] [0.05463916]\n",
            "1020 0.00038896978 [0.97709376] [0.05207133]\n",
            "1040 0.00035327012 [0.9781703] [0.04962415]\n",
            "1060 0.00032084528 [0.9791961] [0.04729202]\n",
            "1080 0.00029139742 [0.9801738] [0.04506954]\n",
            "1100 0.0002646509 [0.9811056] [0.04295142]\n",
            "1120 0.00024036183 [0.98199356] [0.04093286]\n",
            "1140 0.00021829926 [0.9828398] [0.03900915]\n",
            "1160 0.0001982639 [0.9836463] [0.03717586]\n",
            "1180 0.00018006488 [0.9844149] [0.03542872]\n",
            "1200 0.00016353762 [0.9851473] [0.03376367]\n",
            "1220 0.00014852782 [0.9858453] [0.0321769]\n",
            "1240 0.00013489467 [0.9865106] [0.03066468]\n",
            "1260 0.00012251337 [0.98714453] [0.02922354]\n",
            "1280 0.000111269146 [0.9877486] [0.02785014]\n",
            "1300 0.000101056525 [0.9883244] [0.02654131]\n",
            "1320 9.178048e-05 [0.9888731] [0.02529396]\n",
            "1340 8.335765e-05 [0.98939604] [0.02410528]\n",
            "1360 7.570597e-05 [0.98989445] [0.02297241]\n",
            "1380 6.875702e-05 [0.9903694] [0.02189273]\n",
            "1400 6.244654e-05 [0.990822] [0.02086383]\n",
            "1420 5.6714885e-05 [0.9912533] [0.01988327]\n",
            "1440 5.1509018e-05 [0.9916644] [0.01894882]\n",
            "1460 4.6781293e-05 [0.99205613] [0.01805828]\n",
            "1480 4.24874e-05 [0.9924295] [0.01720959]\n",
            "1500 3.8587506e-05 [0.9927853] [0.0164008]\n",
            "1520 3.5045872e-05 [0.9931243] [0.01563003]\n",
            "1540 3.182956e-05 [0.9934475] [0.01489548]\n",
            "1560 2.8907765e-05 [0.9937554] [0.01419544]\n",
            "1580 2.625448e-05 [0.9940489] [0.01352831]\n",
            "1600 2.3845007e-05 [0.9943285] [0.01289254]\n",
            "1620 2.165624e-05 [0.9945951] [0.01228666]\n",
            "1640 1.9668712e-05 [0.994849] [0.01170925]\n",
            "1660 1.7863766e-05 [0.99509114] [0.011159]\n",
            "1680 1.6223936e-05 [0.9953218] [0.01063457]\n",
            "1700 1.4734698e-05 [0.9955417] [0.01013479]\n",
            "1720 1.338241e-05 [0.9957512] [0.00965849]\n",
            "1740 1.21541625e-05 [0.99595094] [0.00920457]\n",
            "1760 1.1038625e-05 [0.9961412] [0.00877199]\n",
            "1780 1.0025496e-05 [0.9963226] [0.00835971]\n",
            "1800 9.105049e-06 [0.99649537] [0.00796684]\n",
            "1820 8.269478e-06 [0.99666005] [0.00759244]\n",
            "1840 7.5106477e-06 [0.99681705] [0.00723564]\n",
            "1860 6.8210993e-06 [0.99696666] [0.00689559]\n",
            "1880 6.195132e-06 [0.9971092] [0.00657151]\n",
            "1900 5.6266167e-06 [0.997245] [0.00626268]\n",
            "1920 5.110212e-06 [0.9973745] [0.00596837]\n",
            "1940 4.6410623e-06 [0.99749786] [0.00568789]\n",
            "1960 4.215025e-06 [0.99761546] [0.0054206]\n",
            "1980 3.828172e-06 [0.9977275] [0.00516586]\n",
            "2000 3.4768063e-06 [0.9978343] [0.0049231]\n"
          ]
        }
      ]
    },
    {
      "cell_type": "markdown",
      "source": [
        "## 동일한 예제 Placeholders를 사용해서\n",
        "### Placeholder를 사용하면, "
      ],
      "metadata": {
        "id": "x8BF6Q6ZxspC"
      }
    },
    {
      "cell_type": "code",
      "source": [
        "import tensorflow.compat.v1 as tf\n",
        "tf.disable_v2_behavior()\n",
        "W = tf.Variable(tf.random_normal([1]), name='weight')\n",
        "b = tf.Variable(tf.random_normal([1]), name='bias')\n",
        "X = tf.placeholder(tf.float32, shape=[None])\n",
        "Y = tf.placeholder(tf.float32, shape=[None])\n",
        "\n",
        "hypothesis = X * W + b\n",
        "cost = tf.reduce_mean(tf.square(hypothesis - Y))\n",
        "\n",
        "optimizer = tf.train.GradientDescentOptimizer(learning_rate=0.01)\n",
        "train = optimizer.minimize(cost)\n",
        "\n",
        "sess = tf.Session()\n",
        "sess.run(tf.global_variables_initializer())\n",
        "\n",
        "for step in range(2001):  # W=1, b=1.1로 예상\n",
        "  cost_val, W_val, b_val, _ = sess.run([cost, W, b, train], \n",
        "                    feed_dict={X:[1, 2, 3, 4, 5], Y: [2.1, 3.1, 4.1, 5.1, 6.1]})\n",
        "  if step % 20 == 0:\n",
        "    print(step, cost_val, W_val, b_val)"
      ],
      "metadata": {
        "colab": {
          "base_uri": "https://localhost:8080/"
        },
        "id": "fRHVbg5pxwU4",
        "outputId": "24f03840-5f72-41bf-ec43-27d30e9003a0"
      },
      "execution_count": null,
      "outputs": [
        {
          "output_type": "stream",
          "name": "stdout",
          "text": [
            "0 33.692383 [-0.23619372] [0.7369804]\n",
            "20 0.0007460189 [0.99934804] [1.0805557]\n",
            "40 5.1239622e-05 [1.0046055] [1.0832735]\n",
            "60 4.473654e-05 [1.0043275] [1.0843755]\n",
            "80 3.906786e-05 [1.0040443] [1.0853988]\n",
            "100 3.4117882e-05 [1.0037794] [1.0863551]\n",
            "120 2.979608e-05 [1.0035319] [1.0872487]\n",
            "140 2.602037e-05 [1.0033005] [1.0880837]\n",
            "160 2.272388e-05 [1.0030844] [1.0888641]\n",
            "180 1.9846735e-05 [1.0028825] [1.089593]\n",
            "200 1.733425e-05 [1.0026939] [1.0902743]\n",
            "220 1.5136601e-05 [1.0025173] [1.0909114]\n",
            "240 1.3219096e-05 [1.0023525] [1.0915067]\n",
            "260 1.1544102e-05 [1.0021985] [1.0920628]\n",
            "280 1.0081972e-05 [1.0020545] [1.0925827]\n",
            "300 8.8045535e-06 [1.0019199] [1.0930685]\n",
            "320 7.689412e-06 [1.0017942] [1.0935224]\n",
            "340 6.71453e-06 [1.0016767] [1.0939466]\n",
            "360 5.864031e-06 [1.0015669] [1.094343]\n",
            "380 5.1215293e-06 [1.0014642] [1.0947133]\n",
            "400 4.473428e-06 [1.0013685] [1.0950594]\n",
            "420 3.906081e-06 [1.0012789] [1.0953829]\n",
            "440 3.411425e-06 [1.0011952] [1.0956852]\n",
            "460 2.9796333e-06 [1.0011169] [1.0959677]\n",
            "480 2.602096e-06 [1.0010437] [1.0962317]\n",
            "500 2.2728386e-06 [1.0009755] [1.0964783]\n",
            "520 1.9843694e-06 [1.0009116] [1.0967091]\n",
            "540 1.7331582e-06 [1.0008519] [1.0969247]\n",
            "560 1.5135414e-06 [1.000796] [1.097126]\n",
            "580 1.3219718e-06 [1.000744] [1.0973142]\n",
            "600 1.1542401e-06 [1.0006952] [1.0974901]\n",
            "620 1.0083119e-06 [1.0006497] [1.0976543]\n",
            "640 8.807112e-07 [1.0006071] [1.0978079]\n",
            "660 7.6891064e-07 [1.0005674] [1.0979514]\n",
            "680 6.715054e-07 [1.0005304] [1.0980856]\n",
            "700 5.8654217e-07 [1.0004957] [1.0982109]\n",
            "720 5.122171e-07 [1.0004632] [1.098328]\n",
            "740 4.4734415e-07 [1.0004328] [1.0984374]\n",
            "760 3.9081033e-07 [1.0004045] [1.0985396]\n",
            "780 3.4137207e-07 [1.0003781] [1.0986351]\n",
            "800 2.9814723e-07 [1.0003535] [1.0987244]\n",
            "820 2.6048147e-07 [1.0003302] [1.0988078]\n",
            "840 2.2747959e-07 [1.0003086] [1.0988858]\n",
            "860 1.9869904e-07 [1.0002885] [1.0989587]\n",
            "880 1.7357411e-07 [1.0002695] [1.0990267]\n",
            "900 1.5162483e-07 [1.000252] [1.0990903]\n",
            "920 1.3235822e-07 [1.0002354] [1.0991498]\n",
            "940 1.1559841e-07 [1.0002201] [1.0992056]\n",
            "960 1.0110716e-07 [1.0002058] [1.0992572]\n",
            "980 8.825528e-08 [1.0001923] [1.099306]\n",
            "1000 7.70447e-08 [1.0001798] [1.0993514]\n",
            "1020 6.7315895e-08 [1.0001678] [1.0993936]\n",
            "1040 5.8834804e-08 [1.0001569] [1.0994333]\n",
            "1060 5.1418898e-08 [1.0001469] [1.0994703]\n",
            "1080 4.4934417e-08 [1.0001372] [1.0995047]\n",
            "1100 3.9257486e-08 [1.000128] [1.0995373]\n",
            "1120 3.427067e-08 [1.0001198] [1.0995675]\n",
            "1140 2.990406e-08 [1.000112] [1.0995959]\n",
            "1160 2.6142208e-08 [1.0001048] [1.0996221]\n",
            "1180 2.2885752e-08 [1.0000978] [1.0996464]\n",
            "1200 1.9950084e-08 [1.0000913] [1.0996698]\n",
            "1220 1.7469734e-08 [1.0000855] [1.0996913]\n",
            "1240 1.5264868e-08 [1.00008] [1.0997113]\n",
            "1260 1.3344061e-08 [1.0000747] [1.0997304]\n",
            "1280 1.1684051e-08 [1.00007] [1.0997474]\n",
            "1300 1.0192252e-08 [1.0000652] [1.0997641]\n",
            "1320 8.883125e-09 [1.0000609] [1.0997797]\n",
            "1340 7.760036e-09 [1.000057] [1.099794]\n",
            "1360 6.743858e-09 [1.0000532] [1.099808]\n",
            "1380 5.944912e-09 [1.00005] [1.0998199]\n",
            "1400 5.170489e-09 [1.0000466] [1.0998318]\n",
            "1420 4.526828e-09 [1.0000435] [1.0998429]\n",
            "1440 3.987543e-09 [1.000041] [1.0998524]\n",
            "1460 3.497928e-09 [1.0000384] [1.099862]\n",
            "1480 3.0267073e-09 [1.0000358] [1.0998715]\n",
            "1500 2.675688e-09 [1.0000334] [1.099879]\n",
            "1520 2.3630946e-09 [1.0000314] [1.0998862]\n",
            "1540 2.0864832e-09 [1.0000293] [1.0998933]\n",
            "1560 1.8175456e-09 [1.0000274] [1.0999005]\n",
            "1580 1.5672527e-09 [1.0000255] [1.0999076]\n",
            "1600 1.335593e-09 [1.0000236] [1.0999144]\n",
            "1620 1.1909833e-09 [1.0000223] [1.0999192]\n",
            "1640 1.0586518e-09 [1.000021] [1.099924]\n",
            "1660 9.230575e-10 [1.0000197] [1.0999287]\n",
            "1680 8.077222e-10 [1.0000184] [1.0999335]\n",
            "1700 6.994014e-10 [1.0000172] [1.0999383]\n",
            "1720 5.9009153e-10 [1.0000159] [1.099943]\n",
            "1740 5.0727067e-10 [1.0000147] [1.0999472]\n",
            "1760 4.5820342e-10 [1.000014] [1.0999497]\n",
            "1780 4.1688963e-10 [1.0000134] [1.0999521]\n",
            "1800 3.7804285e-10 [1.0000126] [1.0999545]\n",
            "1820 3.3633113e-10 [1.000012] [1.0999569]\n",
            "1840 3.0483988e-10 [1.0000113] [1.0999593]\n",
            "1860 2.6535646e-10 [1.0000107] [1.0999616]\n",
            "1880 2.3501343e-10 [1.00001] [1.099964]\n",
            "1900 2.0941116e-10 [1.0000093] [1.0999664]\n",
            "1920 1.7877255e-10 [1.0000087] [1.0999688]\n",
            "1940 1.5231763e-10 [1.0000081] [1.0999712]\n",
            "1960 1.2892087e-10 [1.0000075] [1.0999736]\n",
            "1980 1.0545591e-10 [1.0000067] [1.099976]\n",
            "2000 8.619736e-11 [1.0000062] [1.0999783]\n"
          ]
        }
      ]
    },
    {
      "cell_type": "code",
      "source": [
        "# Testing model\n",
        "print(sess.run(hypothesis, feed_dict={X:[5]}))\n",
        "print(sess.run(hypothesis, feed_dict={X: [2.5]}))\n",
        "print(sess.run(hypothesis, feed_dict={X: [1.5, 3.5]}))"
      ],
      "metadata": {
        "colab": {
          "base_uri": "https://localhost:8080/"
        },
        "id": "jUOlF2O8Z863",
        "outputId": "f7f9d93a-c4d1-4595-cfbd-951a99623d88"
      },
      "execution_count": null,
      "outputs": [
        {
          "output_type": "stream",
          "name": "stdout",
          "text": [
            "[6.1000094]\n",
            "[3.5999937]\n",
            "[2.5999875 4.6      ]\n"
          ]
        }
      ]
    },
    {
      "cell_type": "markdown",
      "source": [
        "## Linear Regression의 cost 최소화 구현"
      ],
      "metadata": {
        "id": "pQ2zH-hDLQfD"
      }
    },
    {
      "cell_type": "code",
      "source": [
        "import tensorflow.compat.v1 as tf\n",
        "tf.disable_v2_behavior()\n",
        "import matplotlib.pyplot as plt\n",
        "X = [1, 2, 3]\n",
        "Y = [1, 2, 3]\n",
        "\n",
        "W = tf.placeholder(tf.float32)\n",
        "hypothesis = X * W\n",
        "cost = tf.reduce_mean(tf.square(hypothesis - Y))\n",
        "sess = tf.Session()\n",
        "sess.run(tf.global_variables_initializer())  #초기화\n",
        "W_val = []\n",
        "cost_val= []\n",
        "for i in range(-30, 50):\n",
        "  feed_W = i * 0.1\n",
        "  curr_cost, curr_W = sess.run([cost, W], feed_dict = {W: feed_W})\n",
        "  W_val.append(curr_W)\n",
        "  cost_val.append(curr_cost)\n",
        "\n",
        "plt.plot(W_val, cost_val)\n",
        "plt.show()\n"
      ],
      "metadata": {
        "colab": {
          "base_uri": "https://localhost:8080/",
          "height": 339
        },
        "id": "5HDV7iX0LXeY",
        "outputId": "2ce29d48-7940-4f2c-9132-0a0bc7d3c5fa"
      },
      "execution_count": 2,
      "outputs": [
        {
          "output_type": "stream",
          "name": "stdout",
          "text": [
            "WARNING:tensorflow:From /usr/local/lib/python3.7/dist-packages/tensorflow/python/compat/v2_compat.py:111: disable_resource_variables (from tensorflow.python.ops.variable_scope) is deprecated and will be removed in a future version.\n",
            "Instructions for updating:\n",
            "non-resource variables are not supported in the long term\n"
          ]
        },
        {
          "output_type": "display_data",
          "data": {
            "image/png": "[encoded data removed]",
            "text/plain": [
              "<Figure size 432x288 with 1 Axes>"
            ]
          },
          "metadata": {
            "needs_background": "light"
          }
        }
      ]
    },
    {
      "cell_type": "code",
      "source": [
        "import tensorflow.compat.v1 as tf\n",
        "tf.disable_v2_behavior()\n",
        "\n",
        "x_data=[1, 2, 3]\n",
        "y_data=[1, 2, 3]\n",
        "\n",
        "W = tf.Variable(tf.random_normal([1]), name='weight')\n",
        "X = tf.placeholder(tf.float32)\n",
        "Y = tf.placeholder(tf.float32)\n",
        "\n",
        "# our hypothesis for linear model X*W\n",
        "hypothesis = X * W\n",
        "\n",
        "cost = tf.reduce_sum(tf.square(hypothesis - Y))\n",
        "\n",
        "# Minimize : gradient descent using derivative: W -= learning_rate * deriavative\n",
        "learning_rate = 0.1\n",
        "gradient = tf.reduce_mean((W * X - Y)* X)\n",
        "descent = W - learning_rate*gradient\n",
        "update = W.assign(descent)\n",
        "\n",
        "# 위에 minimize 대신해서 사용\n",
        "# Minimize: gradient descent magic (미분안하고 cost최소로)\n",
        "optimizer = tf.train.GradientDescentOptimizer(learning_rate=0.1)\n",
        "train = optimizer.minimize(cost)\n",
        "\n",
        "\n",
        "sess=tf.Session()\n",
        "sess.run(tf.global_variables_initializer())\n",
        "for step in range(21):\n",
        "  sess.run(update, feed_dict= {X: x_data, Y: y_data})\n",
        "  print(step, sess.run(cost, feed_dict= {X: x_data, Y: y_data}), sess.run(W))\n",
        "# step, cost, W값 순서로 출력된다\n",
        "# cost는 점점 작아지고, W는 1에 가까워진다. "
      ],
      "metadata": {
        "colab": {
          "base_uri": "https://localhost:8080/"
        },
        "id": "de0oYL4DcCV_",
        "outputId": "2eb35f1f-5673-41b1-9543-1340648bae60"
      },
      "execution_count": 3,
      "outputs": [
        {
          "output_type": "stream",
          "name": "stdout",
          "text": [
            "0 2.351231 [0.590189]\n",
            "1 0.6687945 [0.7814341]\n",
            "2 0.19023475 [0.88343155]\n",
            "3 0.054111283 [0.93783015]\n",
            "4 0.015391602 [0.9668428]\n",
            "5 0.004378054 [0.98231614]\n",
            "6 0.0012453274 [0.9905686]\n",
            "7 0.00035422426 [0.9949699]\n",
            "8 0.00010076069 [0.99731725]\n",
            "9 2.8661532e-05 [0.9985692]\n",
            "10 8.15262e-06 [0.9992369]\n",
            "11 2.3188638e-06 [0.999593]\n",
            "12 6.5988814e-07 [0.9997829]\n",
            "13 1.8749729e-07 [0.99988425]\n",
            "14 5.3383587e-08 [0.99993825]\n",
            "15 1.5222117e-08 [0.99996704]\n",
            "16 4.322164e-09 [0.9999824]\n",
            "17 1.229342e-09 [0.99999064]\n",
            "18 3.5095127e-10 [0.999995]\n",
            "19 1.0168222e-10 [0.9999973]\n",
            "20 2.8649083e-11 [0.99999857]\n"
          ]
        }
      ]
    },
    {
      "cell_type": "markdown",
      "source": [
        ""
      ],
      "metadata": {
        "id": "rD_JHUgP1BNc"
      }
    },
    {
      "cell_type": "code",
      "source": [
        "import tensorflow.compat.v1 as tf\n",
        "tf.disable_v2_behavior()\n",
        "\n",
        "# tf graph input\n",
        "X = [1, 2, 3]\n",
        "Y = [1, 2, 3]\n",
        "\n",
        "# Set wrong model weights\n",
        "W = tf.Variable(5.0)\n",
        "hypothesis = X * W  # Linear Model\n",
        "cost = tf.reduce_mean(tf.square(hypothesis - Y))\n",
        "\n",
        "# Minimize: *Gradient Descent Magic*\n",
        "optimizer = tf.train.GradientDescentOptimizer(learning_rate=0.1)\n",
        "train = optimizer.minimize(cost)\n",
        " \n",
        "sess=tf.Session()\n",
        "sess.run(tf.global_variables_initializer())\n",
        "\n",
        "for step in range(100):\n",
        "  print(step, sess.run(W))\n",
        "  sess.run(train)"
      ],
      "metadata": {
        "colab": {
          "base_uri": "https://localhost:8080/"
        },
        "id": "k06NxpRJvfsp",
        "outputId": "d3a4c3c2-31fc-4f5b-fc44-d764a64e0ecd"
      },
      "execution_count": 7,
      "outputs": [
        {
          "output_type": "stream",
          "name": "stdout",
          "text": [
            "0 5.0\n",
            "1 1.2666664\n",
            "2 1.0177778\n",
            "3 1.0011852\n",
            "4 1.000079\n",
            "5 1.0000052\n",
            "6 1.0000004\n",
            "7 1.0\n",
            "8 1.0\n",
            "9 1.0\n",
            "10 1.0\n",
            "11 1.0\n",
            "12 1.0\n",
            "13 1.0\n",
            "14 1.0\n",
            "15 1.0\n",
            "16 1.0\n",
            "17 1.0\n",
            "18 1.0\n",
            "19 1.0\n",
            "20 1.0\n",
            "21 1.0\n",
            "22 1.0\n",
            "23 1.0\n",
            "24 1.0\n",
            "25 1.0\n",
            "26 1.0\n",
            "27 1.0\n",
            "28 1.0\n",
            "29 1.0\n",
            "30 1.0\n",
            "31 1.0\n",
            "32 1.0\n",
            "33 1.0\n",
            "34 1.0\n",
            "35 1.0\n",
            "36 1.0\n",
            "37 1.0\n",
            "38 1.0\n",
            "39 1.0\n",
            "40 1.0\n",
            "41 1.0\n",
            "42 1.0\n",
            "43 1.0\n",
            "44 1.0\n",
            "45 1.0\n",
            "46 1.0\n",
            "47 1.0\n",
            "48 1.0\n",
            "49 1.0\n",
            "50 1.0\n",
            "51 1.0\n",
            "52 1.0\n",
            "53 1.0\n",
            "54 1.0\n",
            "55 1.0\n",
            "56 1.0\n",
            "57 1.0\n",
            "58 1.0\n",
            "59 1.0\n",
            "60 1.0\n",
            "61 1.0\n",
            "62 1.0\n",
            "63 1.0\n",
            "64 1.0\n",
            "65 1.0\n",
            "66 1.0\n",
            "67 1.0\n",
            "68 1.0\n",
            "69 1.0\n",
            "70 1.0\n",
            "71 1.0\n",
            "72 1.0\n",
            "73 1.0\n",
            "74 1.0\n",
            "75 1.0\n",
            "76 1.0\n",
            "77 1.0\n",
            "78 1.0\n",
            "79 1.0\n",
            "80 1.0\n",
            "81 1.0\n",
            "82 1.0\n",
            "83 1.0\n",
            "84 1.0\n",
            "85 1.0\n",
            "86 1.0\n",
            "87 1.0\n",
            "88 1.0\n",
            "89 1.0\n",
            "90 1.0\n",
            "91 1.0\n",
            "92 1.0\n",
            "93 1.0\n",
            "94 1.0\n",
            "95 1.0\n",
            "96 1.0\n",
            "97 1.0\n",
            "98 1.0\n",
            "99 1.0\n"
          ]
        }
      ]
    },
    {
      "cell_type": "code",
      "source": [
        ""
      ],
      "metadata": {
        "id": "KbpfYZYl625c"
      },
      "execution_count": null,
      "outputs": []
    }
  ]
}