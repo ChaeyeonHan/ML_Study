{
  "nbformat": 4,
  "nbformat_minor": 0,
  "metadata": {
    "colab": {
      "name": "이진분류(유방암 데이터).ipynb",
      "provenance": [],
      "collapsed_sections": [],
      "authorship_tag": "ABX9TyMAET8ccSL1zBxbujvcvDtX",
      "include_colab_link": true
    },
    "kernelspec": {
      "name": "python3",
      "display_name": "Python 3"
    },
    "language_info": {
      "name": "python"
    }
  },
  "cells": [
    {
      "cell_type": "markdown",
      "metadata": {
        "id": "view-in-github",
        "colab_type": "text"
      },
      "source": [
        "<a href=\"https://colab.research.google.com/github/ChaeyeonHan/ML_Study/blob/main/%EC%9D%B4%EC%A7%84%EB%B6%84%EB%A5%98(%EC%9C%A0%EB%B0%A9%EC%95%94_%EB%8D%B0%EC%9D%B4%ED%84%B0).ipynb\" target=\"_parent\"><img src=\"https://colab.research.google.com/assets/colab-badge.svg\" alt=\"Open In Colab\"/></a>"
      ]
    },
    {
      "cell_type": "markdown",
      "source": [
        "### 유방암 데이터 세트 이진분류하기"
      ],
      "metadata": {
        "id": "8DPyB3MsOGsU"
      }
    },
    {
      "cell_type": "code",
      "execution_count": null,
      "metadata": {
        "colab": {
          "base_uri": "https://localhost:8080/"
        },
        "id": "J3J2B5xp7z6T",
        "outputId": "f51bfa46-e270-4118-de5e-7158f7e832d7"
      },
      "outputs": [
        {
          "output_type": "stream",
          "name": "stdout",
          "text": [
            "(569, 30) (569,)\n"
          ]
        }
      ],
      "source": [
        "from sklearn.datasets import load_breast_cancer  # 사이킷런에 포함된 유방암 데이터세트 이용\n",
        "cancer = load_breast_cancer()\n",
        "\n",
        "print(cancer.data.shape, cancer.target.shape)  # 569개의 샘플과 30개의 특성이 있음"
      ]
    },
    {
      "cell_type": "code",
      "source": [
        "cancer.data[:3]  # 처음 3개의 샘플 출력"
      ],
      "metadata": {
        "colab": {
          "base_uri": "https://localhost:8080/"
        },
        "id": "7VGH1hb_7-5N",
        "outputId": "e6a2183b-b8aa-439b-e5bf-e336e690ef25"
      },
      "execution_count": null,
      "outputs": [
        {
          "output_type": "execute_result",
          "data": {
            "text/plain": [
              "array([[1.799e+01, 1.038e+01, 1.228e+02, 1.001e+03, 1.184e-01, 2.776e-01,\n",
              "        3.001e-01, 1.471e-01, 2.419e-01, 7.871e-02, 1.095e+00, 9.053e-01,\n",
              "        8.589e+00, 1.534e+02, 6.399e-03, 4.904e-02, 5.373e-02, 1.587e-02,\n",
              "        3.003e-02, 6.193e-03, 2.538e+01, 1.733e+01, 1.846e+02, 2.019e+03,\n",
              "        1.622e-01, 6.656e-01, 7.119e-01, 2.654e-01, 4.601e-01, 1.189e-01],\n",
              "       [2.057e+01, 1.777e+01, 1.329e+02, 1.326e+03, 8.474e-02, 7.864e-02,\n",
              "        8.690e-02, 7.017e-02, 1.812e-01, 5.667e-02, 5.435e-01, 7.339e-01,\n",
              "        3.398e+00, 7.408e+01, 5.225e-03, 1.308e-02, 1.860e-02, 1.340e-02,\n",
              "        1.389e-02, 3.532e-03, 2.499e+01, 2.341e+01, 1.588e+02, 1.956e+03,\n",
              "        1.238e-01, 1.866e-01, 2.416e-01, 1.860e-01, 2.750e-01, 8.902e-02],\n",
              "       [1.969e+01, 2.125e+01, 1.300e+02, 1.203e+03, 1.096e-01, 1.599e-01,\n",
              "        1.974e-01, 1.279e-01, 2.069e-01, 5.999e-02, 7.456e-01, 7.869e-01,\n",
              "        4.585e+00, 9.403e+01, 6.150e-03, 4.006e-02, 3.832e-02, 2.058e-02,\n",
              "        2.250e-02, 4.571e-03, 2.357e+01, 2.553e+01, 1.525e+02, 1.709e+03,\n",
              "        1.444e-01, 4.245e-01, 4.504e-01, 2.430e-01, 3.613e-01, 8.758e-02]])"
            ]
          },
          "metadata": {},
          "execution_count": 2
        }
      ]
    },
    {
      "cell_type": "code",
      "source": [
        "# 특성이 많으므로, 박스플롯을 사용하여 각 특성의 사분위 값을 표현\n",
        "import numpy as np\n",
        "import matplotlib.pyplot as plt \n",
        "plt.boxplot(cancer.data)\n",
        "plt.xlabel('feature')\n",
        "plt.ylabel('value')\n",
        "plt.show()  # 4, 14, 24번째 특성이 다른 특성보다 값의 분포가 크다는 점 발견 => 각 인덱스의 특징을 확인해보자"
      ],
      "metadata": {
        "colab": {
          "base_uri": "https://localhost:8080/",
          "height": 279
        },
        "id": "sbgm9YZM8KPS",
        "outputId": "41c5f2c5-d0df-4d0c-ad00-2803dd586f15"
      },
      "execution_count": null,
      "outputs": [
        {
          "output_type": "display_data",
          "data": {
            "image/png": "[encoded data removed]",
            "text/plain": [
              "<Figure size 432x288 with 1 Axes>"
            ]
          },
          "metadata": {
            "needs_background": "light"
          }
        }
      ]
    },
    {
      "cell_type": "code",
      "source": [
        "cancer.feature_names[[3,13,23]]  # 모두 넓이와 관련된 특성"
      ],
      "metadata": {
        "colab": {
          "base_uri": "https://localhost:8080/"
        },
        "id": "GM9BH9xm8mmo",
        "outputId": "4790d164-2c38-41b1-ab56-9edd8f33ea30"
      },
      "execution_count": null,
      "outputs": [
        {
          "output_type": "execute_result",
          "data": {
            "text/plain": [
              "array(['mean area', 'area error', 'worst area'], dtype='<U23')"
            ]
          },
          "metadata": {},
          "execution_count": 4
        }
      ]
    },
    {
      "cell_type": "code",
      "source": [
        "# 타깃 데이터 확인\n",
        "# target안에는 0과 1만 존재하므로, 값을 찾아 반환 -> unique함수 사용\n",
        "np.unique(cancer.target, return_counts=True)  # 현재 데이터 셋에 212개의 음성 클래스(정상), 357개의 양성 클래스(종양)이 있다. "
      ],
      "metadata": {
        "colab": {
          "base_uri": "https://localhost:8080/"
        },
        "id": "p6IlyiRZ9GRE",
        "outputId": "0542aa6a-7f0c-4d17-e76f-8932c2784d7e"
      },
      "execution_count": null,
      "outputs": [
        {
          "output_type": "execute_result",
          "data": {
            "text/plain": [
              "(array([0, 1]), array([212, 357]))"
            ]
          },
          "metadata": {},
          "execution_count": 5
        }
      ]
    },
    {
      "cell_type": "markdown",
      "source": [
        "### 성능평가를 위해 나누기\n",
        "만든 모델의 성능을 평가하기 위해서 성능평가 과정을 거쳐야 한다. 훈련 데이터 세트로 학습된 모델을 다시 훈련 데이터 세트로 평가하면, \n",
        "모델이 훈련 데이터세트를 외워버리는 경우가 발생해 평가가 의미없어진다. \n",
        "\n",
        "-> 훈련 데이터 세트를 1. 훈련세트(training set) 2. 테스트세트(test set)\n",
        "\n",
        "-> train_test_split()함수는 훈련세트를 75%, 테스트세트를 25%로 나눠준다.\n"
      ],
      "metadata": {
        "id": "Yg1NZpSYMTRj"
      }
    },
    {
      "cell_type": "code",
      "source": [
        "x = cancer.data\n",
        "y = cancer.target  # 훈련 데이터 저장하기"
      ],
      "metadata": {
        "id": "Pog5dYoS9aAq"
      },
      "execution_count": null,
      "outputs": []
    },
    {
      "cell_type": "code",
      "source": [
        "from sklearn.model_selection import train_test_split  # 훈련 데이터 세트 나누기"
      ],
      "metadata": {
        "id": "a0Jo97lo92od"
      },
      "execution_count": null,
      "outputs": []
    },
    {
      "cell_type": "markdown",
      "source": [
        "stratify = y : 훈련데이터를 나눌때 클래스의 비율을 동일하게 맞춰준다. (train_test_split()함수를 이용하지만 일부 불균형일 경우 사용함)\n",
        "\n",
        "test_size = 0.2 : 테스트세트를 20%로 나눠준다는 의미\n"
      ],
      "metadata": {
        "id": "Lh6gtWywSdoR"
      }
    },
    {
      "cell_type": "code",
      "source": [
        "x_train, x_test, y_train, y_test = train_test_split(x, y, stratify=y, test_size=0.2, random_state=42)\n",
        "print(x_train.shape, x_test.shape)  # 훈련세트와 테스트세트가 약 4:1로 나누어졌다. (455:114)"
      ],
      "metadata": {
        "colab": {
          "base_uri": "https://localhost:8080/"
        },
        "id": "Qj1MT-h--AXh",
        "outputId": "360c0d28-584c-457d-aa70-1b7cff10d982"
      },
      "execution_count": null,
      "outputs": [
        {
          "output_type": "stream",
          "name": "stdout",
          "text": [
            "(455, 30) (114, 30)\n"
          ]
        }
      ]
    },
    {
      "cell_type": "code",
      "source": [
        "np.unique(y_train, return_counts=True)  # 훈련 세트의 타깃 확인하기 (전체 훈련 데이터세트의 클래스 비율과 유사)"
      ],
      "metadata": {
        "colab": {
          "base_uri": "https://localhost:8080/"
        },
        "id": "IvESo-Hh-Q8A",
        "outputId": "320ac86d-aa9a-4022-964a-abfb30479924"
      },
      "execution_count": null,
      "outputs": [
        {
          "output_type": "execute_result",
          "data": {
            "text/plain": [
              "(array([0, 1]), array([170, 285]))"
            ]
          },
          "metadata": {},
          "execution_count": 9
        }
      ]
    },
    {
      "cell_type": "code",
      "source": [
        "# 로지스틱 회귀 구현\n",
        "\n",
        "class LogisticNeuron:\n",
        "\n",
        "  def __init__(self):  # 미리 초기화X\n",
        "    self.w = None\n",
        "    self.b = None\n",
        "  \n",
        "  def forpass(self, x):\n",
        "    z = np.sum(x * self.w) + self.b  # 직선의 방정식 계산(배열 요소끼리 계산)  y = wx + b\n",
        "    return z\n",
        "\n",
        "  def backprop(self, x, err):  # 가중치와 절편에 대한 gradient 계산\n",
        "    w_grad = x * err\n",
        "    b_grad = 1 * err\n",
        "    return w_grad, b_grad\n",
        "  # 여기까지 로지스틱 뉴런 구현됨. 이제 훈련과 예측.\n",
        "\n",
        "  # 훈련 메소드 구현\n",
        "  def fit(self, x, y, epochs=100):\n",
        "    self.w = np.ones(x.shape[1])  # 가중치 초기화\n",
        "    self.b = 0  # 절편 초기화\n",
        "    for i in range(epochs):\n",
        "      for x_i, y_i in zip(x, y):\n",
        "        z = self.forpass(x_i)  # 정방향 계산\n",
        "        a = self.activation(z)  # 활성화 함수 적용\n",
        "        err = -(y_i - a)  # 오차계산\n",
        "        w_grad, b_grad = self.backprop(x_i, err) # 역방향 계산\n",
        "        self.w -= w_grad  # 가중치 업데이트\n",
        "        self.b -= b_grad  # 절편 업데이트\n",
        "\n",
        "  def activation(self, z):\n",
        "    a = 1 / (1 + np.exp(-z))  # 시그모이드 함수 적용\n",
        "    return a\n",
        "\n",
        "    # 예측 메소드\n",
        "  def predict(self, x):\n",
        "    z = [self.forpass(x_i) for x_i in x]  # 선형함수\n",
        "    a = self.activation(np.array(z))  # 활성화함수\n",
        "    return a > 0.5  # 계단함수 적용"
      ],
      "metadata": {
        "id": "fgWxfHb4-dKU"
      },
      "execution_count": null,
      "outputs": []
    },
    {
      "cell_type": "code",
      "source": [
        "# 모델 훈련하고 평가하기\n",
        "neuron = LogisticNeuron()\n",
        "neuron.fit(x_train, y_train)  # fit메소드 호출\n",
        "\n",
        "#  https://www.statology.org/runtimewarning-overflow-encountered-in-exp/\n",
        "# RuntimeWarning: overflow encountered in exp 에 대한 해결법 (내가 작성한 코드에서 다루기엔 수가 너무 커서 발생하는 경고문구)"
      ],
      "metadata": {
        "colab": {
          "base_uri": "https://localhost:8080/"
        },
        "id": "DgE5etKWAo9V",
        "outputId": "207e26cb-7cc8-45cf-d562-cee71a091414"
      },
      "execution_count": null,
      "outputs": [
        {
          "output_type": "stream",
          "name": "stderr",
          "text": [
            "/usr/local/lib/python3.7/dist-packages/ipykernel_launcher.py:33: RuntimeWarning: overflow encountered in exp\n"
          ]
        }
      ]
    },
    {
      "cell_type": "code",
      "source": [
        "np.mean(neuron.predict(x_test) == y_test)  # 82프로의 정확도"
      ],
      "metadata": {
        "colab": {
          "base_uri": "https://localhost:8080/"
        },
        "id": "Bz3464FOBAOu",
        "outputId": "52b7a6f7-a8b9-4781-8ef2-fc612bf497c9"
      },
      "execution_count": null,
      "outputs": [
        {
          "output_type": "stream",
          "name": "stderr",
          "text": [
            "/usr/local/lib/python3.7/dist-packages/ipykernel_launcher.py:33: RuntimeWarning: overflow encountered in exp\n"
          ]
        },
        {
          "output_type": "execute_result",
          "data": {
            "text/plain": [
              "0.8245614035087719"
            ]
          },
          "metadata": {},
          "execution_count": 12
        }
      ]
    },
    {
      "cell_type": "markdown",
      "source": [
        "### 단일층 신경망 클래스"
      ],
      "metadata": {
        "id": "uGq2AyLpVYQK"
      }
    },
    {
      "cell_type": "code",
      "source": [
        "from sklearn.datasets import load_breast_cancer\n",
        "from sklearn.model_selection import train_test_split\n",
        "cancer = load_breast_cancer()\n",
        "x = cancer.data\n",
        "y = cancer.target\n",
        "x_train_all, x_test, y_train_all, y_test = train_test_split(x, y, stratify=y, test_size=0.2, random_state = 42)"
      ],
      "metadata": {
        "id": "dijJuhoxfjiM"
      },
      "execution_count": 32,
      "outputs": []
    },
    {
      "cell_type": "code",
      "source": [
        "x_train, x_val, y_train, y_val = train_test_split(x_train_all, y_train_all, stratify=y_train_all, test_size=0.2, random_state=42)"
      ],
      "metadata": {
        "id": "oHpybGWbgBGh"
      },
      "execution_count": 39,
      "outputs": []
    },
    {
      "cell_type": "code",
      "source": [
        "class SingleLayer:\n",
        "  def __init__(self):\n",
        "    self.w = None\n",
        "    self.b = None\n",
        "  \n",
        "  def forpass(self, x):\n",
        "    z = np.sum(x * self.w) + self.b  # 직선의 방정식 계산(배열 요소끼리 계산)  y = wx + b\n",
        "    return z\n",
        "\n",
        "  def backprop(self, x, err):  # 가중치와 절편에 대한 gradient 계산\n",
        "    w_grad = x * err\n",
        "    b_grad = 1 * err\n",
        "    return w_grad, b_grad\n",
        "  \n",
        "  def add_bias(self, x):\n",
        "    return np.c_[np.ones((x.shape[0], 1)), 1]\n",
        "  \n",
        "  def activation(self, z):\n",
        "    a = 1 / (1 + np.exp(-z))\n",
        "    return a\n",
        "\n",
        "  def fit(self, x, y, epochs=100):\n",
        "    self.w = np.ones(x.shape[1])\n",
        "    self.b = 0\n",
        "    for i in range(epochs):\n",
        "      loss = 0\n",
        "      indexes = np.random.permutation(np.arange(len(x)))  # 인덱스 섞어주기\n",
        "      for i in indexes:\n",
        "        z = self.forpass(x[i])  # 정방향 계산\n",
        "        a = self.activation(z)  # 활성화 함수\n",
        "        err = -(y[i] - a)  # 오차계산해서 \n",
        "        w_grad, b_grad = self.backprop(x[i], err)\n",
        "        self.w -= w_grad  # 가중치 업데이트 시켜주기\n",
        "        self.b -= b_grad\n",
        "        a = np.clip(a, 1e-10, 1-1e-10)\n",
        "        loss += -(y[i]*np.log(a)+(1-y[i])*np.log(1-a))\n",
        "    \n",
        "    self.losses.append(loss/len(y))  # 평균손실 저장\n",
        "\n",
        "  def predict(self, x):\n",
        "    z = [self.forpass(x_i) for x_i in x]  # 선형함수\n",
        "    return np.array(z) > 0\n",
        "  \n",
        "  def score(self, x, y):\n",
        "    return np.mean(self.predict(x) == y)"
      ],
      "metadata": {
        "id": "Nhtjc2WvVa6Y"
      },
      "execution_count": 40,
      "outputs": []
    },
    {
      "cell_type": "markdown",
      "source": [
        "### 데이터 전처리\n",
        "- 특성의 스케일이 서로 다른 데이터를 이용하여 모델을 \n",
        "훈련시킬때 가중치의 변화 알아보기\n",
        "\n",
        "\n"
      ],
      "metadata": {
        "id": "n_xQ_bf7lUlm"
      }
    },
    {
      "cell_type": "code",
      "source": [
        "# 두 특성의 스케일 확인 -> 스케일 차이가 많이난다. \n",
        "print(cancer.feature_names[[2,3]])\n",
        "plt.boxplot(x_train[:, 2:4])\n",
        "plt.xlabel('feature')\n",
        "plt.ylabel('value')\n",
        "plt.show()"
      ],
      "metadata": {
        "colab": {
          "base_uri": "https://localhost:8080/",
          "height": 297
        },
        "id": "oO08pnl2li7E",
        "outputId": "1b544f6c-559b-4871-988a-07f81305b5fa"
      },
      "execution_count": 41,
      "outputs": [
        {
          "output_type": "stream",
          "name": "stdout",
          "text": [
            "['mean perimeter' 'mean area']\n"
          ]
        },
        {
          "output_type": "display_data",
          "data": {
            "image/png": "[encoded data removed]",
            "text/plain": [
              "<Figure size 432x288 with 1 Axes>"
            ]
          },
          "metadata": {
            "needs_background": "light"
          }
        }
      ]
    },
    {
      "cell_type": "code",
      "source": [
        "# 스케일이 다른 두 특성에 경사하강법 알고리즘 적용\n",
        "# learning_rate : 학습률(가중치의 업데이트 양 조절) => 주로 0.1, 0.01 등의 로그스케일로 지정\n",
        "class SingleLayer:\n",
        "  def __init__(self, learning_rate = 0.1):\n",
        "    self.w = None\n",
        "    self.b = None\n",
        "    self.losses = []\n",
        "    self.w_history = []\n",
        "    self.lr = learning_rate\n",
        "\n",
        "  def fit(self, x, y, epochs=100):\n",
        "    self.w = np.ones(x.shape[1])\n",
        "    self.b = 0\n",
        "    self.w_history.append(self.w.copy())\n",
        "    # w_history에 변경된 가중치가 모두 저장되어 있음\n",
        "    np.random.seed(42)\n",
        "    for i in range(epochs):\n",
        "        loss = 0\n",
        "        indexes = np.random.permutation(np.arange(len(x)))  # 인덱스 섞어주기\n",
        "        for i in indexes:\n",
        "          z = self.forpass(x[i])  # 정방향 계산\n",
        "          a = self.activation(z)  # 활성화 함수\n",
        "          err = -(y[i] - a)  # 오차계산해서 \n",
        "          w_grad, b_grad = self.backprop(x[i], err)\n",
        "          self.w -= self.lr * w_grad  # 가중치 업데이트 시켜주기\n",
        "          self.b -= b_grad\n",
        "          self.w_history.append(self.w.copy())  #가중치 append시켜서 저장해주기\n",
        "          a = np.clip(a, 1e-10, 1-1e-10)\n",
        "          loss += -(y[i]*np.log(a)+(1-y[i])*np.log(1-a))\n",
        "        self.losses.append(loss/len(y))  # 평균손실 저장\n",
        "  def forpass(self, x):\n",
        "    z = np.sum(x * self.w) + self.b  # 직선의 방정식 계산(배열 요소끼리 계산)  y = wx + b\n",
        "    return z\n",
        "\n",
        "  def backprop(self, x, err):  # 가중치와 절편에 대한 gradient 계산\n",
        "    w_grad = x * err\n",
        "    b_grad = 1 * err\n",
        "    return w_grad, b_grad\n",
        "  \n",
        "  def add_bias(self, x):\n",
        "    return np.c_[np.ones((x.shape[0], 1)), 1]\n",
        "  \n",
        "  def activation(self, z):\n",
        "    a = 1 / (1 + np.exp(-z))\n",
        "    return a\n",
        "  \n",
        "  def predict(self, x):\n",
        "    z = [self.forpass(x_i) for x_i in x]  # 선형함수\n",
        "    return np.array(z) > 0\n",
        "  \n",
        "  def score(self, x, y):\n",
        "    return np.mean(self.predict(x) == y)\n"
      ],
      "metadata": {
        "id": "x-YSJvsElztm"
      },
      "execution_count": 42,
      "outputs": []
    },
    {
      "cell_type": "markdown",
      "source": [
        "스케일 조정하지 않은 훈련세트로 모델 훈련하고 성능점수 확인 -> 91점"
      ],
      "metadata": {
        "id": "AT6aTq6gVA3w"
      }
    },
    {
      "cell_type": "code",
      "source": [
        "layer1 = SingleLayer()\n",
        "layer1.fit(x_train, y_train)\n",
        "layer1.score(x_val, y_val)"
      ],
      "metadata": {
        "colab": {
          "base_uri": "https://localhost:8080/"
        },
        "id": "BNS_W-ptU9X2",
        "outputId": "52ded2a8-cf69-4fdf-d589-eb6a8337857a"
      },
      "execution_count": 43,
      "outputs": [
        {
          "output_type": "stream",
          "name": "stderr",
          "text": [
            "/usr/local/lib/python3.7/dist-packages/ipykernel_launcher.py:43: RuntimeWarning: overflow encountered in exp\n"
          ]
        },
        {
          "output_type": "execute_result",
          "data": {
            "text/plain": [
              "0.9120879120879121"
            ]
          },
          "metadata": {},
          "execution_count": 43
        }
      ]
    },
    {
      "cell_type": "markdown",
      "source": [
        "- mean perimeter은 주로 100~200 사이에 위치한 값 (w2)\n",
        "- mean area는 200~2000사이에 위치한 값 (w3)\n",
        "- mean area의 스케일이 훨씬 크므로, w3이 학습과정에서 큰 폭으로 변화함\n",
        "\n",
        "- 이를 w3에 대한 그레이디언트가 크기 때문에 w3축을 따라 가중치가 크게 움직인다. 라고 표현함\n",
        "- 가중치의 최적값에 도달하는 동안 w3가 크게 변하므로 모델이 불안정하게 수렴한다. \n",
        "\n",
        " = 스케일을 조정해주어야한다. \n",
        "  -> 스케일 조정방법 중 하나인 표준화(standardization)를 사용"
      ],
      "metadata": {
        "id": "hZPAbBamhBWR"
      }
    },
    {
      "cell_type": "code",
      "source": [
        "# w2, w3는 각각 mean perimeter, mean area의 특성에 관한 가중치.\n",
        "\n",
        "w2=[]\n",
        "w3=[]\n",
        "for w in layer1.w_history:\n",
        "  w2.append(w[2])\n",
        "  w3.append(w[3])\n",
        "\n",
        "plt.plot(w2, w3)\n",
        "plt.plot(w2[-1], w3[-1], 'ro')\n",
        "plt.xlabel('w[2]')\n",
        "plt.ylabel('w[3]')\n",
        "plt.show()"
      ],
      "metadata": {
        "id": "giZZtJ08VL8T",
        "colab": {
          "base_uri": "https://localhost:8080/",
          "height": 279
        },
        "outputId": "223034d8-36bb-43ea-9d9c-c6f26223af9c"
      },
      "execution_count": 46,
      "outputs": [
        {
          "output_type": "display_data",
          "data": {
            "image/png": "[encoded data removed]",
            "text/plain": [
              "<Figure size 432x288 with 1 Axes>"
            ]
          },
          "metadata": {
            "needs_background": "light"
          }
        }
      ]
    },
    {
      "cell_type": "markdown",
      "source": [
        "- 표준화는 사이킷런의 StandardScaler 클래스에 존재하지만, 직접 구현해보기\n",
        "- 표준화 : 특성값에서 평균을 빼고, 표준편차로 나누기\n",
        "\n",
        "\n",
        "![표준화.PNG](data:image/png;base64,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)"
      ],
      "metadata": {
        "id": "0repPO-OiSM2"
      }
    },
    {
      "cell_type": "code",
      "source": [
        "train_mean = np.mean(x_train, axis = 0)  # 평균 구하기\n",
        "train_std = np.std(x_train, axis = 0)  # 표준편차 구하기\n",
        "x_train_scaled = (x_train - train_mean) / train_std   # 표준화해주기"
      ],
      "metadata": {
        "id": "c9AYnd3ggp5h"
      },
      "execution_count": 47,
      "outputs": []
    },
    {
      "cell_type": "markdown",
      "source": [
        "- 이전의 그래프와는 다르게, w2와 w3의 변화 비율이 비슷하기 때문에 가중치가 대각선 방향으로 이동했다. \n",
        "- 두 특성의 스케일을 비슷하게 맞추었으므로 최적값에 빠르게 도달함\n",
        "- 경사하강법에서는 특성의 스케일을 맞추어주는 과정이 중요!"
      ],
      "metadata": {
        "id": "iOTl2htwC6Vr"
      }
    },
    {
      "cell_type": "code",
      "source": [
        "# 모델 훈련하기\n",
        "layer2 = SingleLayer()\n",
        "layer2.fit(x_train_scaled, y_train)\n",
        "w2=[]\n",
        "w3=[]\n",
        "for w in layer2.w_history:\n",
        "  w2.append(w[2])\n",
        "  w3.append(w[3])\n",
        "\n",
        "plt.plot(w2, w3)\n",
        "plt.plot(w2[-1], w3[-1], 'ro')\n",
        "plt.xlabel('w[2]')\n",
        "plt.ylabel('w[3]')\n",
        "plt.show()"
      ],
      "metadata": {
        "colab": {
          "base_uri": "https://localhost:8080/",
          "height": 279
        },
        "id": "mJuq75JTjmDA",
        "outputId": "4cc6f36d-3c30-48c5-fd3c-19b458930e2d"
      },
      "execution_count": 49,
      "outputs": [
        {
          "output_type": "display_data",
          "data": {
            "image/png": "[encoded data removed]",
            "text/plain": [
              "<Figure size 432x288 with 1 Axes>"
            ]
          },
          "metadata": {
            "needs_background": "light"
          }
        }
      ]
    },
    {
      "cell_type": "markdown",
      "source": [
        "- 하지만 성능평가가 매우 낮게 나왔음\n",
        "\n",
        "=> 훈련세트와 검증세트의 스케일이 비슷할 것이라고 기대하지만, 검증세트의 스케일을 바꾸지 않았기에 성능이 좋지 않게 나온다."
      ],
      "metadata": {
        "id": "wao1ue0VDy-d"
      }
    },
    {
      "cell_type": "code",
      "source": [
        "# 모델의 성능평가\n",
        "layer2.score(x_val, y_val)"
      ],
      "metadata": {
        "colab": {
          "base_uri": "https://localhost:8080/"
        },
        "id": "SsVSHV_cCw1V",
        "outputId": "f72cca58-f30c-434c-e538-06b540f8203f"
      },
      "execution_count": 51,
      "outputs": [
        {
          "output_type": "execute_result",
          "data": {
            "text/plain": [
              "0.37362637362637363"
            ]
          },
          "metadata": {},
          "execution_count": 51
        }
      ]
    },
    {
      "cell_type": "code",
      "source": [
        "# 검증세트도 표준화 전처리 작업해주기(스케일 바꾸기)\n",
        "val_mean = np.mean(x_val, axis=0)\n",
        "val_std = np.std(x_val, axis=0)\n",
        "x_val_scaled = (x_val - val_mean) / val_std\n",
        "layer2.score(x_val_scaled, y_val)"
      ],
      "metadata": {
        "colab": {
          "base_uri": "https://localhost:8080/"
        },
        "id": "6a_W1PpXDwCV",
        "outputId": "f3234e6e-d189-47b9-c8fa-b9d71547f162"
      },
      "execution_count": 53,
      "outputs": [
        {
          "output_type": "execute_result",
          "data": {
            "text/plain": [
              "0.967032967032967"
            ]
          },
          "metadata": {},
          "execution_count": 53
        }
      ]
    },
    {
      "cell_type": "markdown",
      "source": [
        "스케일 조정 -> 유의할점\n",
        "- 훈련세트와 검증세트가 다른 비율로 스케일이 조정되지 않도록\n"
      ],
      "metadata": {
        "id": "xQgqzW1jFK-h"
      }
    },
    {
      "cell_type": "code",
      "source": [
        "# 1. 원본 훈련세트와 검증세트\n",
        "plt.plot(x_train[:50,0], x_train[:50,1], 'bo')\n",
        "plt.plot(x_val[:50,0], x_val[:50,1], 'ro')\n",
        "plt.xlabel('fature1')\n",
        "plt.ylabel('fature2')\n",
        "plt.legend(['train set', 'val.set'])\n",
        "plt.show()"
      ],
      "metadata": {
        "colab": {
          "base_uri": "https://localhost:8080/",
          "height": 279
        },
        "id": "y_uOHE6VE07l",
        "outputId": "89fa39e0-a9f3-4a83-aa84-3d68181ad8f2"
      },
      "execution_count": 55,
      "outputs": [
        {
          "output_type": "display_data",
          "data": {
            "image/png": "[encoded data removed]",
            "text/plain": [
              "<Figure size 432x288 with 1 Axes>"
            ]
          },
          "metadata": {
            "needs_background": "light"
          }
        }
      ]
    },
    {
      "cell_type": "code",
      "source": [
        "# 2. 전처리한 훈련세트와 검증세트\n",
        "plt.plot(x_train_scaled[:50,0], x_train_scaled[:50,1], 'bo')\n",
        "plt.plot(x_val_scaled[:50,0], x_val_scaled[:50,1], 'ro')\n",
        "plt.xlabel('fature1')\n",
        "plt.ylabel('fature2')\n",
        "plt.legend(['train set', 'val.set'])\n",
        "plt.show()"
      ],
      "metadata": {
        "colab": {
          "base_uri": "https://localhost:8080/",
          "height": 279
        },
        "id": "BMXGz5UQF-O1",
        "outputId": "5fb0b228-d96d-4a98-a6cd-1f6a2d49c2c5"
      },
      "execution_count": 56,
      "outputs": [
        {
          "output_type": "display_data",
          "data": {
            "image/png": "[encoded data removed]",
            "text/plain": [
              "<Figure size 432x288 with 1 Axes>"
            ]
          },
          "metadata": {
            "needs_background": "light"
          }
        }
      ]
    },
    {
      "cell_type": "markdown",
      "source": [
        "- 두 산점도를 비교해보면 점의 상대적인 위치가 변경되었음\n",
        "- 전처리된 비율이 다르기 때문에\n"
      ],
      "metadata": {
        "id": "QaVlAeItGn5U"
      }
    }
  ]
}